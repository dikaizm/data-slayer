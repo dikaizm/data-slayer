{
 "cells": [
  {
   "cell_type": "code",
   "execution_count": 2,
   "metadata": {},
   "outputs": [
    {
     "data": {
      "text/plain": [
       "array(['Fuel Consumption City (l/100km)',\n",
       "       'Fuel Consumption Hwy (l/100km)',\n",
       "       'Fuel Consumption Comb (l/100km)', 'Engine Size(L)', 'Cylinders',\n",
       "       'Id', 'Make', 'Vehicle Class', 'Transmission', 'Fuel Type',\n",
       "       'CO2 Emissions(g/km)'], dtype=object)"
      ]
     },
     "execution_count": 2,
     "metadata": {},
     "output_type": "execute_result"
    }
   ],
   "source": [
    "import pickle\n",
    "\n",
    "with open('../data/processed/train-processed-v4.pkl', 'rb') as f:\n",
    "    train = pickle.load(f)\n",
    "    \n",
    "with open('../data/processed/test-processed-v4.pkl', 'rb') as f:\n",
    "    test = pickle.load(f)\n",
    "    \n",
    "train.columns.to_numpy()"
   ]
  },
  {
   "cell_type": "code",
   "execution_count": 3,
   "metadata": {},
   "outputs": [
    {
     "name": "stdout",
     "output_type": "stream",
     "text": [
      "test: 42.858183009629215\n",
      "train shape (54937, 11)\n",
      "test shape (23545, 10)\n"
     ]
    }
   ],
   "source": [
    "# Cek persentase test set dibanding train set\n",
    "print('test:', (test.shape[0] / train.shape[0])*100)\n",
    "\n",
    "print('train shape', train.shape)\n",
    "print('test shape', test.shape)"
   ]
  },
  {
   "cell_type": "code",
   "execution_count": 4,
   "metadata": {},
   "outputs": [],
   "source": [
    "# Bagi data menjadi fitur dan target\n",
    "features = train.drop('CO2 Emissions(g/km)', axis=1)\n",
    "target = train['CO2 Emissions(g/km)']"
   ]
  },
  {
   "cell_type": "code",
   "execution_count": 5,
   "metadata": {},
   "outputs": [],
   "source": [
    "import time\n",
    "import numpy as np\n",
    "import matplotlib.pyplot as plt\n",
    "from sklearn.metrics import mean_squared_error\n",
    "\n",
    "def run_model(model, X_train, y_train, X_test, y_test, verbose=True):\n",
    "    t_0 = time.time()\n",
    "    if verbose == False:\n",
    "        model.fit(X_train, y_train, verbose=0)\n",
    "    else:\n",
    "        model.fit(X_train, y_train)\n",
    "    \n",
    "    y_pred = model.predict(X_test)\n",
    "    rmse = np.sqrt(mean_squared_error(y_test, y_pred))\n",
    "    time_taken = time.time() - t_0\n",
    "    \n",
    "    print(\"RMSE = {}\".format(rmse))\n",
    "    \n",
    "    return model, rmse, time_taken"
   ]
  },
  {
   "cell_type": "code",
   "execution_count": 6,
   "metadata": {},
   "outputs": [],
   "source": [
    "# Split data for performance testing\n",
    "\n",
    "from sklearn.model_selection import train_test_split\n",
    "X_train, X_test, y_train, y_test = train_test_split(features, target, test_size=0.40, random_state=12345)"
   ]
  },
  {
   "cell_type": "markdown",
   "metadata": {},
   "source": [
    "Training with Different Models"
   ]
  },
  {
   "cell_type": "code",
   "execution_count": 7,
   "metadata": {},
   "outputs": [
    {
     "name": "stdout",
     "output_type": "stream",
     "text": [
      "RMSE = 24.038187075698087\n"
     ]
    }
   ],
   "source": [
    "from xgboost import XGBRegressor\n",
    "\n",
    "params_xgb = {\n",
    "    'objective': 'reg:squarederror',  # Specify the objective for regression tasks\n",
    "    'colsample_bytree': 0.8,          # Fraction of features to be randomly sampled for each tree\n",
    "    'learning_rate': 0.07,             # Step size shrinkage to prevent overfitting\n",
    "    'max_depth': 64,                  # Maximum depth of a tree\n",
    "    'alpha': 10,                      # L1 regularization term on weights\n",
    "    'n_estimators': 10000,              # Number of boosting rounds\n",
    "    'subsample': 0.8,                 # Fraction of samples used for each boosting round\n",
    "    'random_state': 41230\n",
    "}\n",
    "\n",
    "model_xgb = XGBRegressor(**params_xgb)\n",
    "model_xgb, rmse_xgb, tt_xgb = run_model(model_xgb, X_train, y_train, X_test, y_test)"
   ]
  },
  {
   "cell_type": "code",
   "execution_count": 8,
   "metadata": {},
   "outputs": [
    {
     "name": "stdout",
     "output_type": "stream",
     "text": [
      "[LightGBM] [Warning] Found whitespace in feature_names, replace with underlines\n",
      "[LightGBM] [Info] Auto-choosing col-wise multi-threading, the overhead of testing was 0.012365 seconds.\n",
      "You can set `force_col_wise=true` to remove the overhead.\n",
      "[LightGBM] [Info] Total Bins 1248\n",
      "[LightGBM] [Info] Number of data points in the train set: 32962, number of used features: 10\n",
      "[LightGBM] [Warning] Found whitespace in feature_names, replace with underlines\n",
      "[LightGBM] [Info] Start training from score 244.539348\n"
     ]
    },
    {
     "ename": "KeyboardInterrupt",
     "evalue": "",
     "output_type": "error",
     "traceback": [
      "\u001b[1;31m---------------------------------------------------------------------------\u001b[0m",
      "\u001b[1;31mKeyboardInterrupt\u001b[0m                         Traceback (most recent call last)",
      "Cell \u001b[1;32mIn[8], line 20\u001b[0m\n\u001b[0;32m     16\u001b[0m num_round \u001b[38;5;241m=\u001b[39m \u001b[38;5;241m10000\u001b[39m\n\u001b[0;32m     18\u001b[0m t_0 \u001b[38;5;241m=\u001b[39m time\u001b[38;5;241m.\u001b[39mtime()\n\u001b[1;32m---> 20\u001b[0m model_lgb \u001b[38;5;241m=\u001b[39m \u001b[43mlgb\u001b[49m\u001b[38;5;241;43m.\u001b[39;49m\u001b[43mtrain\u001b[49m\u001b[43m(\u001b[49m\u001b[43mparams_lgb\u001b[49m\u001b[43m,\u001b[49m\u001b[43m \u001b[49m\u001b[43mtrain_data\u001b[49m\u001b[43m,\u001b[49m\u001b[43m \u001b[49m\u001b[43mnum_round\u001b[49m\u001b[43m,\u001b[49m\u001b[43m \u001b[49m\u001b[43mvalid_sets\u001b[49m\u001b[38;5;241;43m=\u001b[39;49m\u001b[43m[\u001b[49m\u001b[43mtest_data\u001b[49m\u001b[43m]\u001b[49m\u001b[43m)\u001b[49m\n\u001b[0;32m     21\u001b[0m y_pred \u001b[38;5;241m=\u001b[39m model_lgb\u001b[38;5;241m.\u001b[39mpredict(X_test, num_iteration\u001b[38;5;241m=\u001b[39mmodel_lgb\u001b[38;5;241m.\u001b[39mbest_iteration)\n\u001b[0;32m     22\u001b[0m rmse_lgb \u001b[38;5;241m=\u001b[39m np\u001b[38;5;241m.\u001b[39msqrt(mean_squared_error(y_test, y_pred))\n",
      "File \u001b[1;32mc:\\Users\\Mahardika\\AppData\\Local\\Programs\\Python\\Python310\\lib\\site-packages\\lightgbm\\engine.py:276\u001b[0m, in \u001b[0;36mtrain\u001b[1;34m(params, train_set, num_boost_round, valid_sets, valid_names, feval, init_model, feature_name, categorical_feature, keep_training_booster, callbacks)\u001b[0m\n\u001b[0;32m    268\u001b[0m \u001b[38;5;28;01mfor\u001b[39;00m cb \u001b[38;5;129;01min\u001b[39;00m callbacks_before_iter:\n\u001b[0;32m    269\u001b[0m     cb(callback\u001b[38;5;241m.\u001b[39mCallbackEnv(model\u001b[38;5;241m=\u001b[39mbooster,\n\u001b[0;32m    270\u001b[0m                             params\u001b[38;5;241m=\u001b[39mparams,\n\u001b[0;32m    271\u001b[0m                             iteration\u001b[38;5;241m=\u001b[39mi,\n\u001b[0;32m    272\u001b[0m                             begin_iteration\u001b[38;5;241m=\u001b[39minit_iteration,\n\u001b[0;32m    273\u001b[0m                             end_iteration\u001b[38;5;241m=\u001b[39minit_iteration \u001b[38;5;241m+\u001b[39m num_boost_round,\n\u001b[0;32m    274\u001b[0m                             evaluation_result_list\u001b[38;5;241m=\u001b[39m\u001b[38;5;28;01mNone\u001b[39;00m))\n\u001b[1;32m--> 276\u001b[0m \u001b[43mbooster\u001b[49m\u001b[38;5;241;43m.\u001b[39;49m\u001b[43mupdate\u001b[49m\u001b[43m(\u001b[49m\u001b[43mfobj\u001b[49m\u001b[38;5;241;43m=\u001b[39;49m\u001b[43mfobj\u001b[49m\u001b[43m)\u001b[49m\n\u001b[0;32m    278\u001b[0m evaluation_result_list: List[_LGBM_BoosterEvalMethodResultType] \u001b[38;5;241m=\u001b[39m []\n\u001b[0;32m    279\u001b[0m \u001b[38;5;66;03m# check evaluation result.\u001b[39;00m\n",
      "File \u001b[1;32mc:\\Users\\Mahardika\\AppData\\Local\\Programs\\Python\\Python310\\lib\\site-packages\\lightgbm\\basic.py:3658\u001b[0m, in \u001b[0;36mBooster.update\u001b[1;34m(self, train_set, fobj)\u001b[0m\n\u001b[0;32m   3656\u001b[0m \u001b[38;5;28;01mif\u001b[39;00m \u001b[38;5;28mself\u001b[39m\u001b[38;5;241m.\u001b[39m__set_objective_to_none:\n\u001b[0;32m   3657\u001b[0m     \u001b[38;5;28;01mraise\u001b[39;00m LightGBMError(\u001b[38;5;124m'\u001b[39m\u001b[38;5;124mCannot update due to null objective function.\u001b[39m\u001b[38;5;124m'\u001b[39m)\n\u001b[1;32m-> 3658\u001b[0m _safe_call(\u001b[43m_LIB\u001b[49m\u001b[38;5;241;43m.\u001b[39;49m\u001b[43mLGBM_BoosterUpdateOneIter\u001b[49m\u001b[43m(\u001b[49m\n\u001b[0;32m   3659\u001b[0m \u001b[43m    \u001b[49m\u001b[38;5;28;43mself\u001b[39;49m\u001b[38;5;241;43m.\u001b[39;49m\u001b[43m_handle\u001b[49m\u001b[43m,\u001b[49m\n\u001b[0;32m   3660\u001b[0m \u001b[43m    \u001b[49m\u001b[43mctypes\u001b[49m\u001b[38;5;241;43m.\u001b[39;49m\u001b[43mbyref\u001b[49m\u001b[43m(\u001b[49m\u001b[43mis_finished\u001b[49m\u001b[43m)\u001b[49m\u001b[43m)\u001b[49m)\n\u001b[0;32m   3661\u001b[0m \u001b[38;5;28mself\u001b[39m\u001b[38;5;241m.\u001b[39m__is_predicted_cur_iter \u001b[38;5;241m=\u001b[39m [\u001b[38;5;28;01mFalse\u001b[39;00m \u001b[38;5;28;01mfor\u001b[39;00m _ \u001b[38;5;129;01min\u001b[39;00m \u001b[38;5;28mrange\u001b[39m(\u001b[38;5;28mself\u001b[39m\u001b[38;5;241m.\u001b[39m__num_dataset)]\n\u001b[0;32m   3662\u001b[0m \u001b[38;5;28;01mreturn\u001b[39;00m is_finished\u001b[38;5;241m.\u001b[39mvalue \u001b[38;5;241m==\u001b[39m \u001b[38;5;241m1\u001b[39m\n",
      "\u001b[1;31mKeyboardInterrupt\u001b[0m: "
     ]
    }
   ],
   "source": [
    "import lightgbm as lgb\n",
    "\n",
    "train_data = lgb.Dataset(X_train, label=y_train)\n",
    "test_data = lgb.Dataset(X_test, label=y_test, reference=train_data)\n",
    "\n",
    "params_lgb = {\n",
    "    'objective': 'regression',  # 'regression' for regression tasks\n",
    "    'metric': 'rmse',           # Root Mean Squared Error (RMSE) for regression\n",
    "    'boosting_type': 'gbdt',    # Gradient Boosting Decision Tree\n",
    "    'num_leaves': 1000,          # Maximum tree leaves for base learners\n",
    "    'learning_rate': 0.07,\n",
    "    'feature_fraction': 0.9,\n",
    "    'bagging_fraction': 0.8,\n",
    "}\n",
    "\n",
    "num_round = 10000\n",
    "\n",
    "t_0 = time.time()\n",
    "\n",
    "model_lgb = lgb.train(params_lgb, train_data, num_round, valid_sets=[test_data])\n",
    "y_pred = model_lgb.predict(X_test, num_iteration=model_lgb.best_iteration)\n",
    "rmse_lgb = np.sqrt(mean_squared_error(y_test, y_pred))\n",
    "\n",
    "time_taken = time.time() - t_0\n",
    "tt_lgb = time_taken\n",
    "\n",
    "print(\"RMSE = {}\".format(rmse_lgb))"
   ]
  },
  {
   "cell_type": "code",
   "execution_count": null,
   "metadata": {},
   "outputs": [
    {
     "name": "stderr",
     "output_type": "stream",
     "text": [
      "[Parallel(n_jobs=-1)]: Using backend ThreadingBackend with 8 concurrent workers.\n",
      "[Parallel(n_jobs=-1)]: Done  34 tasks      | elapsed:    0.5s\n",
      "[Parallel(n_jobs=-1)]: Done 184 tasks      | elapsed:    2.8s\n",
      "[Parallel(n_jobs=-1)]: Done 434 tasks      | elapsed:    6.6s\n",
      "[Parallel(n_jobs=-1)]: Done 784 tasks      | elapsed:   12.2s\n",
      "[Parallel(n_jobs=-1)]: Done 1234 tasks      | elapsed:   19.9s\n",
      "[Parallel(n_jobs=-1)]: Done 1784 tasks      | elapsed:   29.7s\n",
      "[Parallel(n_jobs=-1)]: Done 2434 tasks      | elapsed:   41.2s\n",
      "[Parallel(n_jobs=-1)]: Done 3184 tasks      | elapsed:   56.7s\n"
     ]
    }
   ],
   "source": [
    "from sklearn.ensemble import RandomForestRegressor\n",
    "\n",
    "params_rf = {\n",
    "    'n_estimators': 10000,\n",
    "    'max_depth': 64,\n",
    "    'n_jobs': -1,\n",
    "    'verbose': 1,\n",
    "    'warm_start': True,\n",
    "    'max_features': 'sqrt',\n",
    "    'min_samples_leaf': 2,\n",
    "    'min_samples_split': 10,\n",
    "    'bootstrap': True,\n",
    "    'oob_score': True,\n",
    "    'criterion': 'squared_error',\n",
    "    'random_state': 41230\n",
    "}\n",
    "\n",
    "model_rf = RandomForestRegressor(**params_rf)\n",
    "model_rf, rmse_rf, tt_rf = run_model(model_rf, X_train, y_train, X_test, y_test)"
   ]
  },
  {
   "cell_type": "code",
   "execution_count": null,
   "metadata": {},
   "outputs": [],
   "source": [
    "def evaluate(model, test_features, test_labels):\n",
    "    t_0 = time.time()\n",
    "    \n",
    "    predictions = model.predict(test_features)\n",
    "    errors = abs(predictions - test_labels)\n",
    "    rmse = np.sqrt(mean_squared_error(test_labels, predictions))\n",
    "    \n",
    "    time_taken = time.time() - t_0\n",
    "    \n",
    "    print('Average Error: {:0.4f} degrees.'.format(np.mean(errors)))\n",
    "    print('RMSE = {:0.2f}%.'.format(rmse))\n",
    "    \n",
    "    return model, rmse, time_taken"
   ]
  },
  {
   "cell_type": "code",
   "execution_count": null,
   "metadata": {},
   "outputs": [],
   "source": [
    "# # Hyperparameter tuning with GridSearchCV\n",
    "# from sklearn.model_selection import GridSearchCV\n",
    "\n",
    "# param_grid = {\n",
    "#     'bootstrap': [True],\n",
    "#     'max_depth': [8, 16, 32, 48],\n",
    "#     # 'max_features': [None, 'sqrt', 'log2', 0.1, 0.5, 0.9],\n",
    "#     # 'min_samples_leaf': [3, 4, 5],\n",
    "#     # 'min_samples_split': [8, 10, 12],\n",
    "#     'n_estimators': [100, 200, 300, 1000]\n",
    "# }\n",
    "\n",
    "# model_rfg = RandomForestRegressor()\n",
    "# model_gs = GridSearchCV(estimator=model_rfg, param_grid=param_grid, cv=3, n_jobs=-1, verbose=2)\n",
    "\n",
    "# # Fit grid search to find the best model\n",
    "# model_gs.fit(X_train, y_train)\n",
    "# model_gs.best_params_\n",
    "\n",
    "# model_gs_best = model_gs.best_estimator_"
   ]
  },
  {
   "cell_type": "code",
   "execution_count": null,
   "metadata": {},
   "outputs": [],
   "source": [
    "# model_gs, grid_rmse, tt_gs = evaluate(model_gs_best, X_test, y_test)\n",
    "\n",
    "# print('Improvement of {:0.2f}%.'.format( 100 * (grid_rmse - rmse_rf) / rmse_rf))"
   ]
  },
  {
   "cell_type": "code",
   "execution_count": null,
   "metadata": {},
   "outputs": [
    {
     "name": "stdout",
     "output_type": "stream",
     "text": [
      "RMSE = 34.50910049229751\n"
     ]
    }
   ],
   "source": [
    "from sklearn.linear_model import ElasticNetCV\n",
    "\n",
    "alpha_space = np.linspace(0.01, 1, 100)\n",
    "\n",
    "params_elcv = {\n",
    "    'l1_ratio': [0.1, 0.5, 0.7, 0.9, 0.95, 0.99, 1],\n",
    "    'alphas': alpha_space,\n",
    "    'cv': 10,\n",
    "    'max_iter': 100000,\n",
    "    'random_state': 128\n",
    "}\n",
    "\n",
    "model_elcv = ElasticNetCV(**params_elcv)\n",
    "model_elcv, rmse_elcv, tt_elcv = run_model(model_elcv, X_train, y_train, X_test, y_test)"
   ]
  },
  {
   "cell_type": "code",
   "execution_count": null,
   "metadata": {},
   "outputs": [
    {
     "name": "stdout",
     "output_type": "stream",
     "text": [
      "RMSE = 34.50860949895593\n"
     ]
    }
   ],
   "source": [
    "from sklearn.linear_model import LassoCV\n",
    "\n",
    "params_lcv = {\n",
    "    'alphas': alpha_space,\n",
    "    'cv': 10,\n",
    "    'max_iter': 100000,\n",
    "    'random_state': 128\n",
    "}\n",
    "\n",
    "model_lcv = LassoCV(**params_lcv)\n",
    "model_lcv, rmse_lcv, tt_lcv = run_model(model_lcv, X_train, y_train, X_test, y_test)"
   ]
  },
  {
   "cell_type": "code",
   "execution_count": null,
   "metadata": {},
   "outputs": [
    {
     "name": "stdout",
     "output_type": "stream",
     "text": [
      "RMSE = 66.3670113954236\n"
     ]
    }
   ],
   "source": [
    "from sklearn.neighbors import KNeighborsRegressor\n",
    "\n",
    "params_knn = {\n",
    "    'n_neighbors': 5,\n",
    "    'weights': 'distance',\n",
    "    'algorithm': 'auto',\n",
    "    'leaf_size': 30,\n",
    "    'p': 2,\n",
    "    'metric': 'minkowski',\n",
    "    'n_jobs': -1\n",
    "}\n",
    "\n",
    "model_knn = KNeighborsRegressor(**params_knn)\n",
    "model_knn, rmse_knn, tt_knn = run_model(model_knn, X_train, y_train, X_test, y_test)"
   ]
  },
  {
   "cell_type": "code",
   "execution_count": null,
   "metadata": {},
   "outputs": [
    {
     "name": "stdout",
     "output_type": "stream",
     "text": [
      "RMSE = 69.10102852279306\n"
     ]
    }
   ],
   "source": [
    "from sklearn.svm import SVR\n",
    "\n",
    "params_svr = {\n",
    "    'kernel': 'rbf',\n",
    "    'degree': 3,\n",
    "    'gamma': 'scale',\n",
    "    'coef0': 0.0,\n",
    "    'tol': 0.001,\n",
    "    'C': 1.0,\n",
    "    'epsilon': 0.1,\n",
    "    'shrinking': True,\n",
    "    'cache_size': 200,\n",
    "    'verbose': False,\n",
    "    'max_iter': -1\n",
    "}\n",
    "\n",
    "model_svr = SVR(**params_svr)\n",
    "model_svr, rmse_svr, tt_svr = run_model(model_svr, X_train, y_train, X_test, y_test)"
   ]
  },
  {
   "cell_type": "code",
   "execution_count": null,
   "metadata": {},
   "outputs": [
    {
     "name": "stdout",
     "output_type": "stream",
     "text": [
      "RMSE = 29.28989544145828\n"
     ]
    }
   ],
   "source": [
    "from sklearn.tree import DecisionTreeRegressor\n",
    "\n",
    "params_dtr = {\n",
    "    'criterion': 'squared_error',\n",
    "    'splitter': 'best',\n",
    "    'max_depth': 128,\n",
    "    'min_samples_split': 2,\n",
    "    'min_samples_leaf': 1,\n",
    "    'min_weight_fraction_leaf': 0.0,\n",
    "    'random_state': 128,\n",
    "    'min_impurity_decrease': 0.0,\n",
    "}\n",
    "\n",
    "model_dtr = DecisionTreeRegressor(**params_dtr)\n",
    "model_dtr, rmse_dtr, tt_dtr = run_model(model_dtr, X_train, y_train, X_test, y_test)"
   ]
  },
  {
   "cell_type": "code",
   "execution_count": null,
   "metadata": {},
   "outputs": [],
   "source": [
    "# from sklearn.tree import DecisionTreeRegressor\n",
    "# from sklearn.model_selection import GridSearchCV\n",
    "# import warnings\n",
    "# warnings.filterwarnings('ignore')\n",
    "\n",
    "# param_grid = {\n",
    "#     'criterion': ['mse', 'friedman_mse', 'mae'],\n",
    "#     'splitter': ['best', 'random'],\n",
    "#     'max_depth': [None, 16, 32, 64, 128],\n",
    "#     'min_samples_split': [2, 5, 10],\n",
    "#     'min_samples_leaf': [1, 2, 4],\n",
    "#     'min_weight_fraction_leaf': [0.0, 0.1, 0.2],\n",
    "#     'min_impurity_decrease': [0.0, 0.1, 0.2],\n",
    "#     'random_state': [128],\n",
    "# }\n",
    "\n",
    "# model_dtrcv = DecisionTreeRegressor()\n",
    "\n",
    "# grid_search = GridSearchCV(model_dtrcv, param_grid, cv=5, scoring='neg_mean_squared_error', n_jobs=-1)\n",
    "# grid_search.fit(X_train, y_train)\n",
    "\n",
    "# best_params = grid_search.best_params_\n",
    "# best_model_dtrcv = grid_search.best_estimator_"
   ]
  },
  {
   "cell_type": "code",
   "execution_count": null,
   "metadata": {},
   "outputs": [],
   "source": [
    "# model_dtrcv, rmse_dtrcv, tt_dtrcv = evaluate(best_model_dtrcv, X_test, y_test)"
   ]
  },
  {
   "cell_type": "code",
   "execution_count": null,
   "metadata": {},
   "outputs": [
    {
     "ename": "MemoryError",
     "evalue": "Unable to allocate 671. MiB for an array with shape (4000, 21975) and data type float64",
     "output_type": "error",
     "traceback": [
      "\u001b[1;31m---------------------------------------------------------------------------\u001b[0m",
      "\u001b[1;31mMemoryError\u001b[0m                               Traceback (most recent call last)",
      "Cell \u001b[1;32mIn[19], line 20\u001b[0m\n\u001b[0;32m      5\u001b[0m params_ada_dtr \u001b[38;5;241m=\u001b[39m {\n\u001b[0;32m      6\u001b[0m     \u001b[38;5;124m'\u001b[39m\u001b[38;5;124mcriterion\u001b[39m\u001b[38;5;124m'\u001b[39m:\u001b[38;5;124m'\u001b[39m\u001b[38;5;124msquared_error\u001b[39m\u001b[38;5;124m'\u001b[39m,\n\u001b[0;32m      7\u001b[0m     \u001b[38;5;124m'\u001b[39m\u001b[38;5;124msplitter\u001b[39m\u001b[38;5;124m'\u001b[39m:\u001b[38;5;124m'\u001b[39m\u001b[38;5;124mbest\u001b[39m\u001b[38;5;124m'\u001b[39m,\n\u001b[1;32m   (...)\u001b[0m\n\u001b[0;32m     16\u001b[0m     \u001b[38;5;124m'\u001b[39m\u001b[38;5;124mrandom_state\u001b[39m\u001b[38;5;124m'\u001b[39m:random\n\u001b[0;32m     17\u001b[0m }\n\u001b[0;32m     19\u001b[0m model_ada \u001b[38;5;241m=\u001b[39m AdaBoostRegressor(DecisionTreeRegressor(\u001b[38;5;241m*\u001b[39m\u001b[38;5;241m*\u001b[39mparams_ada_dtr), n_estimators\u001b[38;5;241m=\u001b[39m\u001b[38;5;241m4000\u001b[39m, random_state\u001b[38;5;241m=\u001b[39mrandom)\n\u001b[1;32m---> 20\u001b[0m model_ada, rmse_ada, tt_ada \u001b[38;5;241m=\u001b[39m \u001b[43mrun_model\u001b[49m\u001b[43m(\u001b[49m\u001b[43mmodel_ada\u001b[49m\u001b[43m,\u001b[49m\u001b[43m \u001b[49m\u001b[43mX_train\u001b[49m\u001b[43m,\u001b[49m\u001b[43m \u001b[49m\u001b[43my_train\u001b[49m\u001b[43m,\u001b[49m\u001b[43m \u001b[49m\u001b[43mX_test\u001b[49m\u001b[43m,\u001b[49m\u001b[43m \u001b[49m\u001b[43my_test\u001b[49m\u001b[43m)\u001b[49m\n",
      "Cell \u001b[1;32mIn[4], line 13\u001b[0m, in \u001b[0;36mrun_model\u001b[1;34m(model, X_train, y_train, X_test, y_test, verbose)\u001b[0m\n\u001b[0;32m     10\u001b[0m \u001b[38;5;28;01melse\u001b[39;00m:\n\u001b[0;32m     11\u001b[0m     model\u001b[38;5;241m.\u001b[39mfit(X_train, y_train)\n\u001b[1;32m---> 13\u001b[0m y_pred \u001b[38;5;241m=\u001b[39m \u001b[43mmodel\u001b[49m\u001b[38;5;241;43m.\u001b[39;49m\u001b[43mpredict\u001b[49m\u001b[43m(\u001b[49m\u001b[43mX_test\u001b[49m\u001b[43m)\u001b[49m\n\u001b[0;32m     14\u001b[0m rmse \u001b[38;5;241m=\u001b[39m np\u001b[38;5;241m.\u001b[39msqrt(mean_squared_error(y_test, y_pred))\n\u001b[0;32m     15\u001b[0m time_taken \u001b[38;5;241m=\u001b[39m time\u001b[38;5;241m.\u001b[39mtime() \u001b[38;5;241m-\u001b[39m t_0\n",
      "File \u001b[1;32mc:\\Users\\Mahardika\\AppData\\Local\\Programs\\Python\\Python310\\lib\\site-packages\\sklearn\\ensemble\\_weight_boosting.py:1231\u001b[0m, in \u001b[0;36mAdaBoostRegressor.predict\u001b[1;34m(self, X)\u001b[0m\n\u001b[0;32m   1228\u001b[0m check_is_fitted(\u001b[38;5;28mself\u001b[39m)\n\u001b[0;32m   1229\u001b[0m X \u001b[38;5;241m=\u001b[39m \u001b[38;5;28mself\u001b[39m\u001b[38;5;241m.\u001b[39m_check_X(X)\n\u001b[1;32m-> 1231\u001b[0m \u001b[38;5;28;01mreturn\u001b[39;00m \u001b[38;5;28;43mself\u001b[39;49m\u001b[38;5;241;43m.\u001b[39;49m\u001b[43m_get_median_predict\u001b[49m\u001b[43m(\u001b[49m\u001b[43mX\u001b[49m\u001b[43m,\u001b[49m\u001b[43m \u001b[49m\u001b[38;5;28;43mlen\u001b[39;49m\u001b[43m(\u001b[49m\u001b[38;5;28;43mself\u001b[39;49m\u001b[38;5;241;43m.\u001b[39;49m\u001b[43mestimators_\u001b[49m\u001b[43m)\u001b[49m\u001b[43m)\u001b[49m\n",
      "File \u001b[1;32mc:\\Users\\Mahardika\\AppData\\Local\\Programs\\Python\\Python310\\lib\\site-packages\\sklearn\\ensemble\\_weight_boosting.py:1196\u001b[0m, in \u001b[0;36mAdaBoostRegressor._get_median_predict\u001b[1;34m(self, X, limit)\u001b[0m\n\u001b[0;32m   1194\u001b[0m \u001b[38;5;28;01mdef\u001b[39;00m \u001b[38;5;21m_get_median_predict\u001b[39m(\u001b[38;5;28mself\u001b[39m, X, limit):\n\u001b[0;32m   1195\u001b[0m     \u001b[38;5;66;03m# Evaluate predictions of all estimators\u001b[39;00m\n\u001b[1;32m-> 1196\u001b[0m     predictions \u001b[38;5;241m=\u001b[39m \u001b[43mnp\u001b[49m\u001b[38;5;241;43m.\u001b[39;49m\u001b[43marray\u001b[49m\u001b[43m(\u001b[49m\u001b[43m[\u001b[49m\u001b[43mest\u001b[49m\u001b[38;5;241;43m.\u001b[39;49m\u001b[43mpredict\u001b[49m\u001b[43m(\u001b[49m\u001b[43mX\u001b[49m\u001b[43m)\u001b[49m\u001b[43m \u001b[49m\u001b[38;5;28;43;01mfor\u001b[39;49;00m\u001b[43m \u001b[49m\u001b[43mest\u001b[49m\u001b[43m \u001b[49m\u001b[38;5;129;43;01min\u001b[39;49;00m\u001b[43m \u001b[49m\u001b[38;5;28;43mself\u001b[39;49m\u001b[38;5;241;43m.\u001b[39;49m\u001b[43mestimators_\u001b[49m\u001b[43m[\u001b[49m\u001b[43m:\u001b[49m\u001b[43mlimit\u001b[49m\u001b[43m]\u001b[49m\u001b[43m]\u001b[49m\u001b[43m)\u001b[49m\u001b[38;5;241m.\u001b[39mT\n\u001b[0;32m   1198\u001b[0m     \u001b[38;5;66;03m# Sort the predictions\u001b[39;00m\n\u001b[0;32m   1199\u001b[0m     sorted_idx \u001b[38;5;241m=\u001b[39m np\u001b[38;5;241m.\u001b[39margsort(predictions, axis\u001b[38;5;241m=\u001b[39m\u001b[38;5;241m1\u001b[39m)\n",
      "\u001b[1;31mMemoryError\u001b[0m: Unable to allocate 671. MiB for an array with shape (4000, 21975) and data type float64"
     ]
    }
   ],
   "source": [
    "from sklearn.ensemble import AdaBoostRegressor\n",
    "from sklearn.tree import DecisionTreeRegressor\n",
    "\n",
    "random = 1231241\n",
    "params_ada_dtr = {\n",
    "    'criterion':'squared_error',\n",
    "    'splitter':'best',\n",
    "    'max_depth':None,\n",
    "    'min_samples_split':2,\n",
    "    'min_samples_leaf':1,\n",
    "    'min_weight_fraction_leaf':0.0,\n",
    "    'max_features':'auto',\n",
    "    'max_leaf_nodes':None,\n",
    "    'min_impurity_decrease':0.0,\n",
    "    'ccp_alpha':0.0,\n",
    "    'random_state':random\n",
    "}\n",
    "\n",
    "model_ada = AdaBoostRegressor(DecisionTreeRegressor(**params_ada_dtr), n_estimators=4000, random_state=random)\n",
    "model_ada, rmse_ada, tt_ada = run_model(model_ada, X_train, y_train, X_test, y_test)"
   ]
  },
  {
   "cell_type": "code",
   "execution_count": null,
   "metadata": {},
   "outputs": [
    {
     "name": "stdout",
     "output_type": "stream",
     "text": [
      "Model          RMSE       Time taken\n",
      "Decision Tree  28.422517  0.245998      1\n",
      "ElasticNet     34.255031  2.688076      1\n",
      "KNN            65.283958  0.092998      1\n",
      "Lasso          34.254937  0.605001      1\n",
      "LightGBM       20.169700  1.179000      1\n",
      "Random Forest  20.626998  167.507500    1\n",
      "SVR            69.115432  84.063000     1\n",
      "XGBoost        20.963620  44.691643     1\n",
      "Name: count, dtype: int64\n"
     ]
    },
    {
     "name": "stderr",
     "output_type": "stream",
     "text": [
      "C:\\Users\\INTEL\\AppData\\Local\\Temp\\ipykernel_17136\\1525435982.py:28: UserWarning: set_ticklabels() should only be used with a fixed number of ticks, i.e. after set_ticks() or using a FixedLocator.\n",
      "  ax1.set_xticklabels(ax1.get_xticklabels(), rotation=30, ha='right')\n"
     ]
    },
    {
     "data": {
      "image/png": "[encoded data removed]",
      "text/plain": [
       "<Figure size 800x600 with 2 Axes>"
      ]
     },
     "metadata": {},
     "output_type": "display_data"
    }
   ],
   "source": [
    "import pandas as pd\n",
    "import seaborn as sns\n",
    "\n",
    "rmse = [rmse_rf, rmse_xgb, rmse_lgb, rmse_elcv, rmse_lcv, rmse_knn, rmse_svr, rmse_dtr, rmse_ada]\n",
    "tt = [tt_rf, tt_xgb, tt_lgb, tt_elcv, tt_lcv, tt_knn, tt_svr, tt_dtr, tt_ada]\n",
    "\n",
    "model_data = {'Model': ['Random Forest', 'XGBoost', 'LightGBM', 'ElasticNet', 'Lasso', 'KNN', 'SVR', 'Decision Tree', 'AdaBoost'],\n",
    "              'RMSE': rmse,\n",
    "              'Time taken': tt}\n",
    "model_data = pd.DataFrame(model_data)\n",
    "\n",
    "score = model_data[['Model', 'RMSE', 'Time taken']].value_counts()\n",
    "print(score)\n",
    "\n",
    "fig, ax1 = plt.subplots(figsize=(8,6))\n",
    "ax1.set_title('Model Comparison: RMSE and Time taken for execution', fontsize=13)\n",
    "color = 'tab:green'\n",
    "ax1.set_xlabel('Model', fontsize=10)\n",
    "ax1.set_ylabel('Time taken (s)', fontsize=10, color=color)\n",
    "ax2 = sns.barplot(x='Model', y='Time taken', data = model_data, hue='Model', legend=False, palette='winter')\n",
    "ax1.tick_params(axis='y')\n",
    "ax2 = ax1.twinx()\n",
    "color = 'tab:red'\n",
    "ax2.set_ylabel('RMSE', fontsize=10, color=color)\n",
    "ax2 = sns.lineplot(x='Model', y='RMSE', data = model_data, sort=False, color=color)\n",
    "ax2.tick_params(axis='y', color=color)\n",
    "\n",
    "ax1.set_xticklabels(ax1.get_xticklabels(), rotation=30, ha='right')\n",
    "\n",
    "plt.show()"
   ]
  }
 ],
 "metadata": {
  "kernelspec": {
   "display_name": "Python 3",
   "language": "python",
   "name": "python3"
  },
  "language_info": {
   "codemirror_mode": {
    "name": "ipython",
    "version": 3
   },
   "file_extension": ".py",
   "mimetype": "text/x-python",
   "name": "python",
   "nbconvert_exporter": "python",
   "pygments_lexer": "ipython3",
   "version": "3.10.11"
  }
 },
 "nbformat": 4,
 "nbformat_minor": 2
}
