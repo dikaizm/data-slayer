{
 "cells": [
  {
   "cell_type": "code",
   "execution_count": 1,
   "metadata": {},
   "outputs": [
    {
     "data": {
      "text/plain": [
       "array(['Make', 'Vehicle Class', 'Transmission', 'Id', 'Engine Size(L)',\n",
       "       'Cylinders', 'Fuel Type', 'CO2 Emissions(g/km)',\n",
       "       'Fuel Consumption City (km/l)', 'Fuel Consumption Hwy (km/l)',\n",
       "       'Fuel Consumption Comb (km/l)'], dtype=object)"
      ]
     },
     "execution_count": 1,
     "metadata": {},
     "output_type": "execute_result"
    }
   ],
   "source": [
    "import pickle\n",
    "\n",
    "with open('../data/processed/train-processed.pkl', 'rb') as f:\n",
    "    train = pickle.load(f)\n",
    "    \n",
    "with open('../data/processed/test-processed.pkl', 'rb') as f:\n",
    "    test = pickle.load(f)\n",
    "    \n",
    "train.columns.to_numpy()"
   ]
  },
  {
   "cell_type": "code",
   "execution_count": 2,
   "metadata": {},
   "outputs": [],
   "source": [
    "# Bagi data menjadi fitur dan target\n",
    "features = train.drop('CO2 Emissions(g/km)', axis=1)\n",
    "target = train['CO2 Emissions(g/km)']"
   ]
  },
  {
   "cell_type": "code",
   "execution_count": 3,
   "metadata": {},
   "outputs": [],
   "source": [
    "import time\n",
    "import numpy as np\n",
    "import matplotlib.pyplot as plt\n",
    "from sklearn.metrics import mean_squared_error\n",
    "\n",
    "def run_model(model, X_train, y_train, X_test, y_test, verbose=True):\n",
    "    t_0 = time.time()\n",
    "    if verbose == False:\n",
    "        model.fit(X_train, y_train, verbose=0)\n",
    "    else:\n",
    "        model.fit(X_train, y_train)\n",
    "    \n",
    "    y_pred = model.predict(X_test)\n",
    "    rmse = np.sqrt(mean_squared_error(y_test, y_pred))\n",
    "    time_taken = time.time() - t_0\n",
    "    \n",
    "    print(\"RMSE = {}\".format(rmse))\n",
    "    \n",
    "    return model, rmse, time_taken"
   ]
  },
  {
   "cell_type": "code",
   "execution_count": 4,
   "metadata": {},
   "outputs": [],
   "source": [
    "# Split data for performance testing\n",
    "\n",
    "from sklearn.model_selection import train_test_split\n",
    "X_train, X_test, y_train, y_test = train_test_split(features, target, test_size=0.3, random_state=12345)"
   ]
  },
  {
   "cell_type": "markdown",
   "metadata": {},
   "source": [
    "Training with Different Models"
   ]
  },
  {
   "cell_type": "code",
   "execution_count": 5,
   "metadata": {},
   "outputs": [],
   "source": [
    "# Logistic Regression\n",
    "# from sklearn.linear_model import LogisticRegression\n",
    "# params_lr = {'penalty': 'l1', 'solver': 'liblinear'}\n",
    "# model_lr = LogisticRegression(**params_lr)\n",
    "# model_lr, rmse_lr, tt_lr = run_model(model_lr, X_train, y_train, X_test, y_test)"
   ]
  },
  {
   "cell_type": "code",
   "execution_count": 6,
   "metadata": {},
   "outputs": [
    {
     "name": "stdout",
     "output_type": "stream",
     "text": [
      "RMSE = 35.29383356608269\n"
     ]
    }
   ],
   "source": [
    "from xgboost import XGBRegressor\n",
    "\n",
    "params_xgb = {\n",
    "    'objective': 'reg:squarederror',  # Specify the objective for regression tasks\n",
    "    'colsample_bytree': 0.8,          # Fraction of features to be randomly sampled for each tree\n",
    "    'learning_rate': 0.1,             # Step size shrinkage to prevent overfitting\n",
    "    'max_depth': 16,                   # Maximum depth of a tree\n",
    "    'alpha': 10,                      # L1 regularization term on weights\n",
    "    'n_estimators': 100,              # Number of boosting rounds\n",
    "    'subsample': 0.8,                 # Fraction of samples used for each boosting round\n",
    "    'random_state': 42\n",
    "}\n",
    "\n",
    "model_xgb = XGBRegressor(**params_xgb)\n",
    "model_xgb, rmse_xgb, tt_xgb = run_model(model_xgb, X_train, y_train, X_test, y_test)"
   ]
  },
  {
   "cell_type": "code",
   "execution_count": 12,
   "metadata": {},
   "outputs": [
    {
     "name": "stdout",
     "output_type": "stream",
     "text": [
      "[LightGBM] [Warning] Found whitespace in feature_names, replace with underlines\n",
      "[LightGBM] [Info] Auto-choosing row-wise multi-threading, the overhead of testing was 0.000854 seconds.\n",
      "You can set `force_row_wise=true` to remove the overhead.\n",
      "And if memory is not enough, you can set `force_col_wise=true`.\n",
      "[LightGBM] [Info] Total Bins 1148\n",
      "[LightGBM] [Info] Number of data points in the train set: 95998, number of used features: 10\n",
      "[LightGBM] [Warning] Found whitespace in feature_names, replace with underlines\n",
      "[LightGBM] [Info] Start training from score 241.850282\n",
      "RMSE = 36.952016077847176\n"
     ]
    }
   ],
   "source": [
    "import lightgbm as lgb\n",
    "\n",
    "train_data = lgb.Dataset(X_train, label=y_train)\n",
    "test_data = lgb.Dataset(X_test, label=y_test, reference=train_data)\n",
    "\n",
    "params_lgb = {\n",
    "    'objective': 'regression',  # 'regression' for regression tasks\n",
    "    'metric': 'rmse',           # Root Mean Squared Error (RMSE) for regression\n",
    "    'boosting_type': 'gbdt',    # Gradient Boosting Decision Tree\n",
    "    'num_leaves': 31,\n",
    "    'learning_rate': 0.05,\n",
    "    'feature_fraction': 0.9\n",
    "}\n",
    "\n",
    "num_round = 100\n",
    "\n",
    "t_0 = time.time()\n",
    "\n",
    "model_lgb = lgb.train(params_lgb, train_data, num_round, valid_sets=[test_data])\n",
    "y_pred = model_lgb.predict(X_test, num_iteration=model_lgb.best_iteration)\n",
    "rmse_lgb = np.sqrt(mean_squared_error(y_test, y_pred))\n",
    "\n",
    "time_taken = time.time() - t_0\n",
    "tt_lgb = time_taken\n",
    "\n",
    "print(\"RMSE = {}\".format(rmse_lgb))"
   ]
  },
  {
   "cell_type": "code",
   "execution_count": 15,
   "metadata": {},
   "outputs": [
    {
     "name": "stdout",
     "output_type": "stream",
     "text": [
      "RMSE = 34.750575751426744\n"
     ]
    }
   ],
   "source": [
    "from sklearn.ensemble import RandomForestRegressor\n",
    "\n",
    "params_rf = {\n",
    "    'n_estimators': 100,\n",
    "    'max_depth': 16,\n",
    "    'random_state': 12345\n",
    "}\n",
    "\n",
    "model_rf = RandomForestRegressor(**params_rf)\n",
    "model_rf, rmse_rf, tt_rf = run_model(model_rf, X_train, y_train, X_test, y_test)"
   ]
  },
  {
   "cell_type": "code",
   "execution_count": 16,
   "metadata": {},
   "outputs": [],
   "source": [
    "def evaluate(model, test_features, test_labels):\n",
    "    predictions = model.predict(test_features)\n",
    "    errors = abs(predictions - test_labels)\n",
    "    rmse = np.sqrt(mean_squared_error(test_labels, predictions))\n",
    "    print('Average Error: {:0.4f} degrees.'.format(np.mean(errors)))\n",
    "    print('RMSE = {:0.2f}%.'.format(rmse))\n",
    "    \n",
    "    return rmse"
   ]
  },
  {
   "cell_type": "code",
   "execution_count": 36,
   "metadata": {},
   "outputs": [
    {
     "name": "stdout",
     "output_type": "stream",
     "text": [
      "Fitting 3 folds for each of 16 candidates, totalling 48 fits\n",
      "[CV] END ......bootstrap=True, max_depth=8, n_estimators=100; total time=  35.3s\n",
      "[CV] END ......bootstrap=True, max_depth=8, n_estimators=100; total time=  35.3s\n",
      "[CV] END ......bootstrap=True, max_depth=8, n_estimators=100; total time=  35.4s\n",
      "[CV] END ......bootstrap=True, max_depth=8, n_estimators=200; total time= 1.3min\n",
      "[CV] END ......bootstrap=True, max_depth=8, n_estimators=200; total time= 1.3min\n",
      "[CV] END ......bootstrap=True, max_depth=8, n_estimators=200; total time= 1.3min\n",
      "[CV] END ......bootstrap=True, max_depth=8, n_estimators=300; total time= 1.9min\n",
      "[CV] END ......bootstrap=True, max_depth=8, n_estimators=300; total time= 1.9min\n",
      "[CV] END .....bootstrap=True, max_depth=16, n_estimators=100; total time= 1.2min\n",
      "[CV] END .....bootstrap=True, max_depth=16, n_estimators=100; total time= 1.2min\n",
      "[CV] END ......bootstrap=True, max_depth=8, n_estimators=300; total time= 2.0min\n",
      "[CV] END .....bootstrap=True, max_depth=16, n_estimators=100; total time= 1.3min\n",
      "[CV] END .....bootstrap=True, max_depth=16, n_estimators=200; total time= 2.5min\n",
      "[CV] END .....bootstrap=True, max_depth=16, n_estimators=200; total time= 2.5min\n",
      "[CV] END .....bootstrap=True, max_depth=16, n_estimators=200; total time= 2.5min\n",
      "[CV] END .....bootstrap=True, max_depth=16, n_estimators=300; total time= 3.7min\n",
      "[CV] END .....bootstrap=True, max_depth=16, n_estimators=300; total time= 3.6min\n",
      "[CV] END .....bootstrap=True, max_depth=8, n_estimators=1000; total time= 6.8min\n",
      "[CV] END .....bootstrap=True, max_depth=8, n_estimators=1000; total time= 6.8min\n",
      "[CV] END .....bootstrap=True, max_depth=8, n_estimators=1000; total time= 7.0min\n",
      "[CV] END .....bootstrap=True, max_depth=16, n_estimators=300; total time= 4.2min\n",
      "[CV] END .....bootstrap=True, max_depth=32, n_estimators=100; total time= 2.2min\n",
      "[CV] END .....bootstrap=True, max_depth=32, n_estimators=100; total time= 2.0min\n",
      "[CV] END .....bootstrap=True, max_depth=32, n_estimators=100; total time= 2.0min\n",
      "[CV] END .....bootstrap=True, max_depth=32, n_estimators=200; total time= 3.3min\n",
      "[CV] END .....bootstrap=True, max_depth=32, n_estimators=200; total time= 3.3min\n",
      "[CV] END .....bootstrap=True, max_depth=32, n_estimators=200; total time= 3.3min\n",
      "[CV] END .....bootstrap=True, max_depth=32, n_estimators=300; total time= 5.2min\n",
      "[CV] END .....bootstrap=True, max_depth=32, n_estimators=300; total time= 5.2min\n",
      "[CV] END .....bootstrap=True, max_depth=48, n_estimators=100; total time= 1.8min\n",
      "[CV] END .....bootstrap=True, max_depth=32, n_estimators=300; total time= 5.4min\n",
      "[CV] END ....bootstrap=True, max_depth=16, n_estimators=1000; total time=13.0min\n",
      "[CV] END ....bootstrap=True, max_depth=16, n_estimators=1000; total time=13.0min\n",
      "[CV] END .....bootstrap=True, max_depth=48, n_estimators=100; total time= 1.7min\n",
      "[CV] END .....bootstrap=True, max_depth=48, n_estimators=100; total time= 1.6min\n",
      "[CV] END ....bootstrap=True, max_depth=16, n_estimators=1000; total time=12.9min\n",
      "[CV] END .....bootstrap=True, max_depth=48, n_estimators=200; total time= 3.3min\n",
      "[CV] END .....bootstrap=True, max_depth=48, n_estimators=200; total time= 3.3min\n",
      "[CV] END .....bootstrap=True, max_depth=48, n_estimators=200; total time= 3.3min\n",
      "[CV] END .....bootstrap=True, max_depth=48, n_estimators=300; total time= 5.0min\n",
      "[CV] END .....bootstrap=True, max_depth=48, n_estimators=300; total time= 5.0min\n",
      "[CV] END .....bootstrap=True, max_depth=48, n_estimators=300; total time= 4.8min\n",
      "[CV] END ....bootstrap=True, max_depth=32, n_estimators=1000; total time=16.8min\n",
      "[CV] END ....bootstrap=True, max_depth=32, n_estimators=1000; total time=16.6min\n",
      "[CV] END ....bootstrap=True, max_depth=32, n_estimators=1000; total time=15.5min\n",
      "[CV] END ....bootstrap=True, max_depth=48, n_estimators=1000; total time=12.6min\n",
      "[CV] END ....bootstrap=True, max_depth=48, n_estimators=1000; total time=12.5min\n",
      "[CV] END ....bootstrap=True, max_depth=48, n_estimators=1000; total time=11.3min\n",
      "Average Error: 21.9019 degrees.\n",
      "RMSE = 34.66%.\n",
      "Improvement of -0.26%.\n"
     ]
    }
   ],
   "source": [
    "# Hyperparameter tuning with GridSearchCV\n",
    "from sklearn.model_selection import GridSearchCV\n",
    "\n",
    "param_grid = {\n",
    "    'bootstrap': [True],\n",
    "    'max_depth': [8, 16, 32, 48],\n",
    "    # 'max_features': [None, 'sqrt', 'log2', 0.1, 0.5, 0.9],\n",
    "    # 'min_samples_leaf': [3, 4, 5],\n",
    "    # 'min_samples_split': [8, 10, 12],\n",
    "    'n_estimators': [100, 200, 300, 1000]\n",
    "}\n",
    "\n",
    "model_rfg = RandomForestRegressor()\n",
    "model_gs = GridSearchCV(estimator=model_rfg, param_grid=param_grid, cv=3, n_jobs=-1, verbose=2)\n",
    "\n",
    "# Fit grid search to find the best model\n",
    "model_gs.fit(X_train, y_train)\n",
    "model_gs.best_params_\n",
    "\n",
    "model_gs_best = model_gs.best_estimator_\n",
    "grid_rmse = evaluate(model_gs_best, X_test, y_test)\n",
    "\n",
    "print('Improvement of {:0.2f}%.'.format( 100 * (grid_rmse - rmse_rf) / rmse_rf))"
   ]
  },
  {
   "cell_type": "code",
   "execution_count": null,
   "metadata": {},
   "outputs": [
    {
     "name": "stdout",
     "output_type": "stream",
     "text": [
      "RMSE       Time taken\n",
      "34.750576  55.711785     1\n",
      "35.293834  7.885281      1\n",
      "36.952016  0.532557      1\n",
      "Name: count, dtype: int64\n"
     ]
    },
    {
     "data": {
      "image/png": "[encoded data removed]",
      "text/plain": [
       "<Figure size 800x600 with 2 Axes>"
      ]
     },
     "metadata": {},
     "output_type": "display_data"
    }
   ],
   "source": [
    "import pandas as pd\n",
    "import seaborn as sns\n",
    "\n",
    "rmse = [rmse_rf, rmse_xgb, rmse_lgb]\n",
    "tt = [tt_rf, tt_xgb, tt_lgb]\n",
    "\n",
    "model_data = {'Model': ['Random Forest', 'XGBoost', 'LightGBM'],\n",
    "              'RMSE': rmse,\n",
    "              'Time taken': tt}\n",
    "model_data = pd.DataFrame(model_data)\n",
    "\n",
    "score = model_data[['RMSE', 'Time taken']].value_counts()\n",
    "print(score)\n",
    "\n",
    "fig, ax1 = plt.subplots(figsize=(8,6))\n",
    "ax1.set_title('Model Comparison: RMSE and Time taken for execution', fontsize=13)\n",
    "color = 'tab:green'\n",
    "ax1.set_xlabel('Model', fontsize=10)\n",
    "ax1.set_ylabel('Time taken (s)', fontsize=10, color=color)\n",
    "ax2 = sns.barplot(x='Model', y='Time taken', data = model_data, hue='Model', legend=False, palette='winter')\n",
    "ax1.tick_params(axis='y')\n",
    "ax2 = ax1.twinx()\n",
    "color = 'tab:red'\n",
    "ax2.set_ylabel('RMSE', fontsize=10, color=color)\n",
    "ax2 = sns.lineplot(x='Model', y='RMSE', data = model_data, sort=False, color=color)\n",
    "ax2.tick_params(axis='y', color=color)"
   ]
  }
 ],
 "metadata": {
  "kernelspec": {
   "display_name": "Python 3",
   "language": "python",
   "name": "python3"
  },
  "language_info": {
   "codemirror_mode": {
    "name": "ipython",
    "version": 3
   },
   "file_extension": ".py",
   "mimetype": "text/x-python",
   "name": "python",
   "nbconvert_exporter": "python",
   "pygments_lexer": "ipython3",
   "version": "3.11.4"
  }
 },
 "nbformat": 4,
 "nbformat_minor": 2
}
