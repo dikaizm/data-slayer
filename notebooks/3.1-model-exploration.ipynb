{
 "cells": [
  {
   "cell_type": "code",
   "execution_count": 6,
   "metadata": {},
   "outputs": [
    {
     "data": {
      "text/plain": [
       "array(['Fuel Consumption City (l/100km)',\n",
       "       'Fuel Consumption Hwy (l/100km)',\n",
       "       'Fuel Consumption Comb (l/100km)', 'Engine Size(L)', 'Cylinders',\n",
       "       'Id', 'Make', 'Vehicle Class', 'Transmission', 'Fuel Type',\n",
       "       'CO2 Emissions(g/km)'], dtype=object)"
      ]
     },
     "execution_count": 6,
     "metadata": {},
     "output_type": "execute_result"
    }
   ],
   "source": [
    "import pickle\n",
    "\n",
    "with open('../data/processed/train-processed-v3.pkl', 'rb') as f:\n",
    "    train = pickle.load(f)\n",
    "    \n",
    "with open('../data/processed/test-processed-v3.pkl', 'rb') as f:\n",
    "    test = pickle.load(f)\n",
    "    \n",
    "train.columns.to_numpy()"
   ]
  },
  {
   "cell_type": "code",
   "execution_count": 7,
   "metadata": {},
   "outputs": [],
   "source": [
    "# Bagi data menjadi fitur dan target\n",
    "features = train.drop('CO2 Emissions(g/km)', axis=1)\n",
    "target = train['CO2 Emissions(g/km)']"
   ]
  },
  {
   "cell_type": "code",
   "execution_count": 8,
   "metadata": {},
   "outputs": [],
   "source": [
    "import time\n",
    "import numpy as np\n",
    "import matplotlib.pyplot as plt\n",
    "from sklearn.metrics import mean_squared_error\n",
    "\n",
    "def run_model(model, X_train, y_train, X_test, y_test, verbose=True):\n",
    "    t_0 = time.time()\n",
    "    if verbose == False:\n",
    "        model.fit(X_train, y_train, verbose=0)\n",
    "    else:\n",
    "        model.fit(X_train, y_train)\n",
    "    \n",
    "    y_pred = model.predict(X_test)\n",
    "    rmse = np.sqrt(mean_squared_error(y_test, y_pred))\n",
    "    time_taken = time.time() - t_0\n",
    "    \n",
    "    print(\"RMSE = {}\".format(rmse))\n",
    "    \n",
    "    return model, rmse, time_taken"
   ]
  },
  {
   "cell_type": "code",
   "execution_count": 9,
   "metadata": {},
   "outputs": [],
   "source": [
    "# Split data for performance testing\n",
    "\n",
    "from sklearn.model_selection import train_test_split\n",
    "X_train, X_test, y_train, y_test = train_test_split(features, target, test_size=0.25, random_state=12345)"
   ]
  },
  {
   "cell_type": "markdown",
   "metadata": {},
   "source": [
    "Training with Different Models"
   ]
  },
  {
   "cell_type": "code",
   "execution_count": 10,
   "metadata": {},
   "outputs": [
    {
     "name": "stdout",
     "output_type": "stream",
     "text": [
      "RMSE = 23.694399430442754\n"
     ]
    }
   ],
   "source": [
    "from xgboost import XGBRegressor\n",
    "\n",
    "params_xgb = {\n",
    "    'objective': 'reg:squarederror',  # Specify the objective for regression tasks\n",
    "    'colsample_bytree': 0.8,          # Fraction of features to be randomly sampled for each tree\n",
    "    'learning_rate': 0.07,             # Step size shrinkage to prevent overfitting\n",
    "    'max_depth': 64,                  # Maximum depth of a tree\n",
    "    'alpha': 10,                      # L1 regularization term on weights\n",
    "    'n_estimators': 10000,              # Number of boosting rounds\n",
    "    'subsample': 0.8,                 # Fraction of samples used for each boosting round\n",
    "    'random_state': 41230\n",
    "}\n",
    "\n",
    "model_xgb = XGBRegressor(**params_xgb)\n",
    "model_xgb, rmse_xgb, tt_xgb = run_model(model_xgb, X_train, y_train, X_test, y_test)"
   ]
  },
  {
   "cell_type": "code",
   "execution_count": 11,
   "metadata": {},
   "outputs": [
    {
     "name": "stdout",
     "output_type": "stream",
     "text": [
      "[LightGBM] [Warning] Found whitespace in feature_names, replace with underlines\n",
      "[LightGBM] [Info] Auto-choosing col-wise multi-threading, the overhead of testing was 0.001866 seconds.\n",
      "You can set `force_col_wise=true` to remove the overhead.\n",
      "[LightGBM] [Info] Total Bins 1502\n",
      "[LightGBM] [Info] Number of data points in the train set: 41202, number of used features: 10\n",
      "[LightGBM] [Warning] Found whitespace in feature_names, replace with underlines\n",
      "[LightGBM] [Info] Start training from score 244.485923\n",
      "RMSE = 23.08356444574832\n"
     ]
    }
   ],
   "source": [
    "import lightgbm as lgb\n",
    "\n",
    "train_data = lgb.Dataset(X_train, label=y_train)\n",
    "test_data = lgb.Dataset(X_test, label=y_test, reference=train_data)\n",
    "\n",
    "params_lgb = {\n",
    "    'objective': 'regression',  # 'regression' for regression tasks\n",
    "    'metric': 'rmse',           # Root Mean Squared Error (RMSE) for regression\n",
    "    'boosting_type': 'gbdt',    # Gradient Boosting Decision Tree\n",
    "    'num_leaves': 512,          # Maximum tree leaves for base learners\n",
    "    'learning_rate': 0.08,\n",
    "    'feature_fraction': 0.9,\n",
    "    'bagging_fraction': 0.8,\n",
    "}\n",
    "\n",
    "num_round = 100\n",
    "\n",
    "t_0 = time.time()\n",
    "\n",
    "model_lgb = lgb.train(params_lgb, train_data, num_round, valid_sets=[test_data])\n",
    "y_pred = model_lgb.predict(X_test, num_iteration=model_lgb.best_iteration)\n",
    "rmse_lgb = np.sqrt(mean_squared_error(y_test, y_pred))\n",
    "\n",
    "time_taken = time.time() - t_0\n",
    "tt_lgb = time_taken\n",
    "\n",
    "print(\"RMSE = {}\".format(rmse_lgb))"
   ]
  },
  {
   "cell_type": "code",
   "execution_count": 12,
   "metadata": {},
   "outputs": [
    {
     "name": "stderr",
     "output_type": "stream",
     "text": [
      "[Parallel(n_jobs=-1)]: Using backend ThreadingBackend with 12 concurrent workers.\n",
      "[Parallel(n_jobs=-1)]: Done  26 tasks      | elapsed:    0.1s\n",
      "[Parallel(n_jobs=-1)]: Done 176 tasks      | elapsed:    0.9s\n",
      "[Parallel(n_jobs=-1)]: Done 426 tasks      | elapsed:    2.2s\n",
      "[Parallel(n_jobs=-1)]: Done 776 tasks      | elapsed:    4.1s\n",
      "[Parallel(n_jobs=-1)]: Done 1226 tasks      | elapsed:    6.7s\n",
      "[Parallel(n_jobs=-1)]: Done 1776 tasks      | elapsed:   10.0s\n",
      "[Parallel(n_jobs=-1)]: Done 2426 tasks      | elapsed:   14.1s\n",
      "[Parallel(n_jobs=-1)]: Done 3176 tasks      | elapsed:   19.3s\n",
      "[Parallel(n_jobs=-1)]: Done 4026 tasks      | elapsed:   25.6s\n",
      "[Parallel(n_jobs=-1)]: Done 4976 tasks      | elapsed:   33.4s\n",
      "[Parallel(n_jobs=-1)]: Done 6026 tasks      | elapsed:   42.6s\n",
      "[Parallel(n_jobs=-1)]: Done 7176 tasks      | elapsed:   53.8s\n",
      "[Parallel(n_jobs=-1)]: Done 8426 tasks      | elapsed:  1.1min\n",
      "[Parallel(n_jobs=-1)]: Done 9776 tasks      | elapsed:  1.4min\n",
      "[Parallel(n_jobs=-1)]: Done 10000 out of 10000 | elapsed:  1.4min finished\n",
      "[Parallel(n_jobs=12)]: Using backend ThreadingBackend with 12 concurrent workers.\n",
      "[Parallel(n_jobs=12)]: Done  26 tasks      | elapsed:    0.6s\n",
      "[Parallel(n_jobs=12)]: Done 176 tasks      | elapsed:    0.9s\n",
      "[Parallel(n_jobs=12)]: Done 426 tasks      | elapsed:    1.4s\n",
      "[Parallel(n_jobs=12)]: Done 776 tasks      | elapsed:    2.0s\n",
      "[Parallel(n_jobs=12)]: Done 1226 tasks      | elapsed:    2.9s\n",
      "[Parallel(n_jobs=12)]: Done 1776 tasks      | elapsed:    4.0s\n",
      "[Parallel(n_jobs=12)]: Done 2426 tasks      | elapsed:    5.2s\n",
      "[Parallel(n_jobs=12)]: Done 3176 tasks      | elapsed:    6.7s\n",
      "[Parallel(n_jobs=12)]: Done 4026 tasks      | elapsed:    8.3s\n",
      "[Parallel(n_jobs=12)]: Done 4976 tasks      | elapsed:   10.2s\n",
      "[Parallel(n_jobs=12)]: Done 6026 tasks      | elapsed:   12.2s\n",
      "[Parallel(n_jobs=12)]: Done 7176 tasks      | elapsed:   14.5s\n",
      "[Parallel(n_jobs=12)]: Done 8426 tasks      | elapsed:   16.9s\n",
      "[Parallel(n_jobs=12)]: Done 9776 tasks      | elapsed:   19.5s\n"
     ]
    },
    {
     "name": "stdout",
     "output_type": "stream",
     "text": [
      "RMSE = 23.013467380178085\n"
     ]
    },
    {
     "name": "stderr",
     "output_type": "stream",
     "text": [
      "[Parallel(n_jobs=12)]: Done 10000 out of 10000 | elapsed:   19.9s finished\n"
     ]
    }
   ],
   "source": [
    "from sklearn.ensemble import RandomForestRegressor\n",
    "\n",
    "params_rf = {\n",
    "    'n_estimators': 10000,\n",
    "    'max_depth': 64,\n",
    "    'n_jobs': -1,\n",
    "    'verbose': 1,\n",
    "    'warm_start': True,\n",
    "    'max_features': 'sqrt',\n",
    "    'min_samples_leaf': 2,\n",
    "    'min_samples_split': 10,\n",
    "    'bootstrap': True,\n",
    "    'oob_score': True,\n",
    "    'criterion': 'squared_error',\n",
    "    'random_state': 41230\n",
    "}\n",
    "\n",
    "model_rf = RandomForestRegressor(**params_rf)\n",
    "model_rf, rmse_rf, tt_rf = run_model(model_rf, X_train, y_train, X_test, y_test)"
   ]
  },
  {
   "cell_type": "code",
   "execution_count": 13,
   "metadata": {},
   "outputs": [],
   "source": [
    "def evaluate(model, test_features, test_labels):\n",
    "    t_0 = time.time()\n",
    "    \n",
    "    predictions = model.predict(test_features)\n",
    "    errors = abs(predictions - test_labels)\n",
    "    rmse = np.sqrt(mean_squared_error(test_labels, predictions))\n",
    "    \n",
    "    time_taken = time.time() - t_0\n",
    "    \n",
    "    print('Average Error: {:0.4f} degrees.'.format(np.mean(errors)))\n",
    "    print('RMSE = {:0.2f}%.'.format(rmse))\n",
    "    \n",
    "    return model, rmse, time_taken"
   ]
  },
  {
   "cell_type": "code",
   "execution_count": 14,
   "metadata": {},
   "outputs": [],
   "source": [
    "# # Hyperparameter tuning with GridSearchCV\n",
    "# from sklearn.model_selection import GridSearchCV\n",
    "\n",
    "# param_grid = {\n",
    "#     'bootstrap': [True],\n",
    "#     'max_depth': [8, 16, 32, 48],\n",
    "#     # 'max_features': [None, 'sqrt', 'log2', 0.1, 0.5, 0.9],\n",
    "#     # 'min_samples_leaf': [3, 4, 5],\n",
    "#     # 'min_samples_split': [8, 10, 12],\n",
    "#     'n_estimators': [100, 200, 300, 1000]\n",
    "# }\n",
    "\n",
    "# model_rfg = RandomForestRegressor()\n",
    "# model_gs = GridSearchCV(estimator=model_rfg, param_grid=param_grid, cv=3, n_jobs=-1, verbose=2)\n",
    "\n",
    "# # Fit grid search to find the best model\n",
    "# model_gs.fit(X_train, y_train)\n",
    "# model_gs.best_params_\n",
    "\n",
    "# model_gs_best = model_gs.best_estimator_"
   ]
  },
  {
   "cell_type": "code",
   "execution_count": 15,
   "metadata": {},
   "outputs": [],
   "source": [
    "# model_gs, grid_rmse, tt_gs = evaluate(model_gs_best, X_test, y_test)\n",
    "\n",
    "# print('Improvement of {:0.2f}%.'.format( 100 * (grid_rmse - rmse_rf) / rmse_rf))"
   ]
  },
  {
   "cell_type": "code",
   "execution_count": 16,
   "metadata": {},
   "outputs": [
    {
     "name": "stdout",
     "output_type": "stream",
     "text": [
      "RMSE = 36.757038939242854\n"
     ]
    }
   ],
   "source": [
    "from sklearn.linear_model import ElasticNetCV\n",
    "\n",
    "alpha_space = np.linspace(0.01, 1, 100)\n",
    "\n",
    "params_elcv = {\n",
    "    'l1_ratio': [0.1, 0.5, 0.7, 0.9, 0.95, 0.99, 1],\n",
    "    'alphas': alpha_space,\n",
    "    'cv': 10,\n",
    "    'max_iter': 100000,\n",
    "    'random_state': 128\n",
    "}\n",
    "\n",
    "model_elcv = ElasticNetCV(**params_elcv)\n",
    "model_elcv, rmse_elcv, tt_elcv = run_model(model_elcv, X_train, y_train, X_test, y_test)"
   ]
  },
  {
   "cell_type": "code",
   "execution_count": 17,
   "metadata": {},
   "outputs": [
    {
     "name": "stdout",
     "output_type": "stream",
     "text": [
      "RMSE = 36.75715648252722\n"
     ]
    }
   ],
   "source": [
    "from sklearn.linear_model import LassoCV\n",
    "\n",
    "params_lcv = {\n",
    "    'alphas': alpha_space,\n",
    "    'cv': 10,\n",
    "    'max_iter': 100000,\n",
    "    'random_state': 128\n",
    "}\n",
    "\n",
    "model_lcv = LassoCV(**params_lcv)\n",
    "model_lcv, rmse_lcv, tt_lcv = run_model(model_lcv, X_train, y_train, X_test, y_test)"
   ]
  },
  {
   "cell_type": "code",
   "execution_count": 18,
   "metadata": {},
   "outputs": [
    {
     "name": "stdout",
     "output_type": "stream",
     "text": [
      "RMSE = 62.85882026771167\n"
     ]
    }
   ],
   "source": [
    "from sklearn.neighbors import KNeighborsRegressor\n",
    "\n",
    "params_knn = {\n",
    "    'n_neighbors': 5,\n",
    "    'weights': 'distance',\n",
    "    'algorithm': 'auto',\n",
    "    'leaf_size': 30,\n",
    "    'p': 2,\n",
    "    'metric': 'minkowski',\n",
    "    'n_jobs': -1\n",
    "}\n",
    "\n",
    "model_knn = KNeighborsRegressor(**params_knn)\n",
    "model_knn, rmse_knn, tt_knn = run_model(model_knn, X_train, y_train, X_test, y_test)"
   ]
  },
  {
   "cell_type": "code",
   "execution_count": 19,
   "metadata": {},
   "outputs": [
    {
     "name": "stdout",
     "output_type": "stream",
     "text": [
      "RMSE = 65.64044652352689\n"
     ]
    }
   ],
   "source": [
    "from sklearn.svm import SVR\n",
    "\n",
    "params_svr = {\n",
    "    'kernel': 'rbf',\n",
    "    'degree': 3,\n",
    "    'gamma': 'scale',\n",
    "    'coef0': 0.0,\n",
    "    'tol': 0.001,\n",
    "    'C': 1.0,\n",
    "    'epsilon': 0.1,\n",
    "    'shrinking': True,\n",
    "    'cache_size': 200,\n",
    "    'verbose': False,\n",
    "    'max_iter': -1\n",
    "}\n",
    "\n",
    "model_svr = SVR(**params_svr)\n",
    "model_svr, rmse_svr, tt_svr = run_model(model_svr, X_train, y_train, X_test, y_test)"
   ]
  },
  {
   "cell_type": "code",
   "execution_count": 20,
   "metadata": {},
   "outputs": [
    {
     "name": "stdout",
     "output_type": "stream",
     "text": [
      "RMSE = 31.772202937550844\n"
     ]
    }
   ],
   "source": [
    "from sklearn.tree import DecisionTreeRegressor\n",
    "\n",
    "params_dtr = {\n",
    "    'criterion': 'squared_error',\n",
    "    'splitter': 'best',\n",
    "    'max_depth': 128,\n",
    "    'min_samples_split': 2,\n",
    "    'min_samples_leaf': 1,\n",
    "    'min_weight_fraction_leaf': 0.0,\n",
    "    'random_state': 128,\n",
    "    'min_impurity_decrease': 0.0,\n",
    "}\n",
    "\n",
    "model_dtr = DecisionTreeRegressor(**params_dtr)\n",
    "model_dtr, rmse_dtr, tt_dtr = run_model(model_dtr, X_train, y_train, X_test, y_test)"
   ]
  },
  {
   "cell_type": "code",
   "execution_count": 21,
   "metadata": {},
   "outputs": [
    {
     "ename": "KeyboardInterrupt",
     "evalue": "",
     "output_type": "error",
     "traceback": [
      "\u001b[1;31m---------------------------------------------------------------------------\u001b[0m",
      "\u001b[1;31mKeyboardInterrupt\u001b[0m                         Traceback (most recent call last)",
      "\u001b[1;32mc:\\Users\\shiro\\Documents\\Projects\\data-slayer\\notebooks\\3.1-model-exploration.ipynb Cell 17\u001b[0m line \u001b[0;36m2\n\u001b[0;32m     <a href='vscode-notebook-cell:/c%3A/Users/shiro/Documents/Projects/data-slayer/notebooks/3.1-model-exploration.ipynb#X22sZmlsZQ%3D%3D?line=16'>17</a>\u001b[0m model_dtrcv \u001b[39m=\u001b[39m DecisionTreeRegressor()\n\u001b[0;32m     <a href='vscode-notebook-cell:/c%3A/Users/shiro/Documents/Projects/data-slayer/notebooks/3.1-model-exploration.ipynb#X22sZmlsZQ%3D%3D?line=18'>19</a>\u001b[0m grid_search \u001b[39m=\u001b[39m GridSearchCV(model_dtrcv, param_grid, cv\u001b[39m=\u001b[39m\u001b[39m5\u001b[39m, scoring\u001b[39m=\u001b[39m\u001b[39m'\u001b[39m\u001b[39mneg_mean_squared_error\u001b[39m\u001b[39m'\u001b[39m, n_jobs\u001b[39m=\u001b[39m\u001b[39m-\u001b[39m\u001b[39m1\u001b[39m)\n\u001b[1;32m---> <a href='vscode-notebook-cell:/c%3A/Users/shiro/Documents/Projects/data-slayer/notebooks/3.1-model-exploration.ipynb#X22sZmlsZQ%3D%3D?line=19'>20</a>\u001b[0m grid_search\u001b[39m.\u001b[39;49mfit(X_train, y_train)\n\u001b[0;32m     <a href='vscode-notebook-cell:/c%3A/Users/shiro/Documents/Projects/data-slayer/notebooks/3.1-model-exploration.ipynb#X22sZmlsZQ%3D%3D?line=21'>22</a>\u001b[0m best_params \u001b[39m=\u001b[39m grid_search\u001b[39m.\u001b[39mbest_params_\n\u001b[0;32m     <a href='vscode-notebook-cell:/c%3A/Users/shiro/Documents/Projects/data-slayer/notebooks/3.1-model-exploration.ipynb#X22sZmlsZQ%3D%3D?line=22'>23</a>\u001b[0m best_model_dtrcv \u001b[39m=\u001b[39m grid_search\u001b[39m.\u001b[39mbest_estimator_\n",
      "File \u001b[1;32mc:\\Users\\shiro\\AppData\\Local\\Programs\\Python\\Python310\\lib\\site-packages\\sklearn\\model_selection\\_search.py:875\u001b[0m, in \u001b[0;36mBaseSearchCV.fit\u001b[1;34m(self, X, y, groups, **fit_params)\u001b[0m\n\u001b[0;32m    869\u001b[0m     results \u001b[39m=\u001b[39m \u001b[39mself\u001b[39m\u001b[39m.\u001b[39m_format_results(\n\u001b[0;32m    870\u001b[0m         all_candidate_params, n_splits, all_out, all_more_results\n\u001b[0;32m    871\u001b[0m     )\n\u001b[0;32m    873\u001b[0m     \u001b[39mreturn\u001b[39;00m results\n\u001b[1;32m--> 875\u001b[0m \u001b[39mself\u001b[39;49m\u001b[39m.\u001b[39;49m_run_search(evaluate_candidates)\n\u001b[0;32m    877\u001b[0m \u001b[39m# multimetric is determined here because in the case of a callable\u001b[39;00m\n\u001b[0;32m    878\u001b[0m \u001b[39m# self.scoring the return type is only known after calling\u001b[39;00m\n\u001b[0;32m    879\u001b[0m first_test_score \u001b[39m=\u001b[39m all_out[\u001b[39m0\u001b[39m][\u001b[39m\"\u001b[39m\u001b[39mtest_scores\u001b[39m\u001b[39m\"\u001b[39m]\n",
      "File \u001b[1;32mc:\\Users\\shiro\\AppData\\Local\\Programs\\Python\\Python310\\lib\\site-packages\\sklearn\\model_selection\\_search.py:1379\u001b[0m, in \u001b[0;36mGridSearchCV._run_search\u001b[1;34m(self, evaluate_candidates)\u001b[0m\n\u001b[0;32m   1377\u001b[0m \u001b[39mdef\u001b[39;00m \u001b[39m_run_search\u001b[39m(\u001b[39mself\u001b[39m, evaluate_candidates):\n\u001b[0;32m   1378\u001b[0m \u001b[39m    \u001b[39m\u001b[39m\"\"\"Search all candidates in param_grid\"\"\"\u001b[39;00m\n\u001b[1;32m-> 1379\u001b[0m     evaluate_candidates(ParameterGrid(\u001b[39mself\u001b[39;49m\u001b[39m.\u001b[39;49mparam_grid))\n",
      "File \u001b[1;32mc:\\Users\\shiro\\AppData\\Local\\Programs\\Python\\Python310\\lib\\site-packages\\sklearn\\model_selection\\_search.py:822\u001b[0m, in \u001b[0;36mBaseSearchCV.fit.<locals>.evaluate_candidates\u001b[1;34m(candidate_params, cv, more_results)\u001b[0m\n\u001b[0;32m    814\u001b[0m \u001b[39mif\u001b[39;00m \u001b[39mself\u001b[39m\u001b[39m.\u001b[39mverbose \u001b[39m>\u001b[39m \u001b[39m0\u001b[39m:\n\u001b[0;32m    815\u001b[0m     \u001b[39mprint\u001b[39m(\n\u001b[0;32m    816\u001b[0m         \u001b[39m\"\u001b[39m\u001b[39mFitting \u001b[39m\u001b[39m{0}\u001b[39;00m\u001b[39m folds for each of \u001b[39m\u001b[39m{1}\u001b[39;00m\u001b[39m candidates,\u001b[39m\u001b[39m\"\u001b[39m\n\u001b[0;32m    817\u001b[0m         \u001b[39m\"\u001b[39m\u001b[39m totalling \u001b[39m\u001b[39m{2}\u001b[39;00m\u001b[39m fits\u001b[39m\u001b[39m\"\u001b[39m\u001b[39m.\u001b[39mformat(\n\u001b[0;32m    818\u001b[0m             n_splits, n_candidates, n_candidates \u001b[39m*\u001b[39m n_splits\n\u001b[0;32m    819\u001b[0m         )\n\u001b[0;32m    820\u001b[0m     )\n\u001b[1;32m--> 822\u001b[0m out \u001b[39m=\u001b[39m parallel(\n\u001b[0;32m    823\u001b[0m     delayed(_fit_and_score)(\n\u001b[0;32m    824\u001b[0m         clone(base_estimator),\n\u001b[0;32m    825\u001b[0m         X,\n\u001b[0;32m    826\u001b[0m         y,\n\u001b[0;32m    827\u001b[0m         train\u001b[39m=\u001b[39;49mtrain,\n\u001b[0;32m    828\u001b[0m         test\u001b[39m=\u001b[39;49mtest,\n\u001b[0;32m    829\u001b[0m         parameters\u001b[39m=\u001b[39;49mparameters,\n\u001b[0;32m    830\u001b[0m         split_progress\u001b[39m=\u001b[39;49m(split_idx, n_splits),\n\u001b[0;32m    831\u001b[0m         candidate_progress\u001b[39m=\u001b[39;49m(cand_idx, n_candidates),\n\u001b[0;32m    832\u001b[0m         \u001b[39m*\u001b[39;49m\u001b[39m*\u001b[39;49mfit_and_score_kwargs,\n\u001b[0;32m    833\u001b[0m     )\n\u001b[0;32m    834\u001b[0m     \u001b[39mfor\u001b[39;49;00m (cand_idx, parameters), (split_idx, (train, test)) \u001b[39min\u001b[39;49;00m product(\n\u001b[0;32m    835\u001b[0m         \u001b[39menumerate\u001b[39;49m(candidate_params), \u001b[39menumerate\u001b[39;49m(cv\u001b[39m.\u001b[39;49msplit(X, y, groups))\n\u001b[0;32m    836\u001b[0m     )\n\u001b[0;32m    837\u001b[0m )\n\u001b[0;32m    839\u001b[0m \u001b[39mif\u001b[39;00m \u001b[39mlen\u001b[39m(out) \u001b[39m<\u001b[39m \u001b[39m1\u001b[39m:\n\u001b[0;32m    840\u001b[0m     \u001b[39mraise\u001b[39;00m \u001b[39mValueError\u001b[39;00m(\n\u001b[0;32m    841\u001b[0m         \u001b[39m\"\u001b[39m\u001b[39mNo fits were performed. \u001b[39m\u001b[39m\"\u001b[39m\n\u001b[0;32m    842\u001b[0m         \u001b[39m\"\u001b[39m\u001b[39mWas the CV iterator empty? \u001b[39m\u001b[39m\"\u001b[39m\n\u001b[0;32m    843\u001b[0m         \u001b[39m\"\u001b[39m\u001b[39mWere there no candidates?\u001b[39m\u001b[39m\"\u001b[39m\n\u001b[0;32m    844\u001b[0m     )\n",
      "File \u001b[1;32mc:\\Users\\shiro\\AppData\\Local\\Programs\\Python\\Python310\\lib\\site-packages\\joblib\\parallel.py:1952\u001b[0m, in \u001b[0;36mParallel.__call__\u001b[1;34m(self, iterable)\u001b[0m\n\u001b[0;32m   1946\u001b[0m \u001b[39m# The first item from the output is blank, but it makes the interpreter\u001b[39;00m\n\u001b[0;32m   1947\u001b[0m \u001b[39m# progress until it enters the Try/Except block of the generator and\u001b[39;00m\n\u001b[0;32m   1948\u001b[0m \u001b[39m# reach the first `yield` statement. This starts the aynchronous\u001b[39;00m\n\u001b[0;32m   1949\u001b[0m \u001b[39m# dispatch of the tasks to the workers.\u001b[39;00m\n\u001b[0;32m   1950\u001b[0m \u001b[39mnext\u001b[39m(output)\n\u001b[1;32m-> 1952\u001b[0m \u001b[39mreturn\u001b[39;00m output \u001b[39mif\u001b[39;00m \u001b[39mself\u001b[39m\u001b[39m.\u001b[39mreturn_generator \u001b[39melse\u001b[39;00m \u001b[39mlist\u001b[39;49m(output)\n",
      "File \u001b[1;32mc:\\Users\\shiro\\AppData\\Local\\Programs\\Python\\Python310\\lib\\site-packages\\joblib\\parallel.py:1595\u001b[0m, in \u001b[0;36mParallel._get_outputs\u001b[1;34m(self, iterator, pre_dispatch)\u001b[0m\n\u001b[0;32m   1592\u001b[0m     \u001b[39myield\u001b[39;00m\n\u001b[0;32m   1594\u001b[0m     \u001b[39mwith\u001b[39;00m \u001b[39mself\u001b[39m\u001b[39m.\u001b[39m_backend\u001b[39m.\u001b[39mretrieval_context():\n\u001b[1;32m-> 1595\u001b[0m         \u001b[39myield from\u001b[39;00m \u001b[39mself\u001b[39m\u001b[39m.\u001b[39m_retrieve()\n\u001b[0;32m   1597\u001b[0m \u001b[39mexcept\u001b[39;00m \u001b[39mGeneratorExit\u001b[39;00m:\n\u001b[0;32m   1598\u001b[0m     \u001b[39m# The generator has been garbage collected before being fully\u001b[39;00m\n\u001b[0;32m   1599\u001b[0m     \u001b[39m# consumed. This aborts the remaining tasks if possible and warn\u001b[39;00m\n\u001b[0;32m   1600\u001b[0m     \u001b[39m# the user if necessary.\u001b[39;00m\n\u001b[0;32m   1601\u001b[0m     \u001b[39mself\u001b[39m\u001b[39m.\u001b[39m_exception \u001b[39m=\u001b[39m \u001b[39mTrue\u001b[39;00m\n",
      "File \u001b[1;32mc:\\Users\\shiro\\AppData\\Local\\Programs\\Python\\Python310\\lib\\site-packages\\joblib\\parallel.py:1707\u001b[0m, in \u001b[0;36mParallel._retrieve\u001b[1;34m(self)\u001b[0m\n\u001b[0;32m   1702\u001b[0m \u001b[39m# If the next job is not ready for retrieval yet, we just wait for\u001b[39;00m\n\u001b[0;32m   1703\u001b[0m \u001b[39m# async callbacks to progress.\u001b[39;00m\n\u001b[0;32m   1704\u001b[0m \u001b[39mif\u001b[39;00m ((\u001b[39mlen\u001b[39m(\u001b[39mself\u001b[39m\u001b[39m.\u001b[39m_jobs) \u001b[39m==\u001b[39m \u001b[39m0\u001b[39m) \u001b[39mor\u001b[39;00m\n\u001b[0;32m   1705\u001b[0m     (\u001b[39mself\u001b[39m\u001b[39m.\u001b[39m_jobs[\u001b[39m0\u001b[39m]\u001b[39m.\u001b[39mget_status(\n\u001b[0;32m   1706\u001b[0m         timeout\u001b[39m=\u001b[39m\u001b[39mself\u001b[39m\u001b[39m.\u001b[39mtimeout) \u001b[39m==\u001b[39m TASK_PENDING)):\n\u001b[1;32m-> 1707\u001b[0m     time\u001b[39m.\u001b[39;49msleep(\u001b[39m0.01\u001b[39;49m)\n\u001b[0;32m   1708\u001b[0m     \u001b[39mcontinue\u001b[39;00m\n\u001b[0;32m   1710\u001b[0m \u001b[39m# We need to be careful: the job list can be filling up as\u001b[39;00m\n\u001b[0;32m   1711\u001b[0m \u001b[39m# we empty it and Python list are not thread-safe by\u001b[39;00m\n\u001b[0;32m   1712\u001b[0m \u001b[39m# default hence the use of the lock\u001b[39;00m\n",
      "\u001b[1;31mKeyboardInterrupt\u001b[0m: "
     ]
    }
   ],
   "source": [
    "from sklearn.tree import DecisionTreeRegressor\n",
    "from sklearn.model_selection import GridSearchCV\n",
    "import warnings\n",
    "warnings.filterwarnings('ignore')\n",
    "\n",
    "param_grid = {\n",
    "    'criterion': ['mse', 'friedman_mse', 'mae'],\n",
    "    'splitter': ['best', 'random'],\n",
    "    'max_depth': [None, 16, 32, 64, 128],\n",
    "    'min_samples_split': [2, 5, 10],\n",
    "    'min_samples_leaf': [1, 2, 4],\n",
    "    'min_weight_fraction_leaf': [0.0, 0.1, 0.2],\n",
    "    'min_impurity_decrease': [0.0, 0.1, 0.2],\n",
    "    'random_state': [128],\n",
    "}\n",
    "\n",
    "model_dtrcv = DecisionTreeRegressor()\n",
    "\n",
    "grid_search = GridSearchCV(model_dtrcv, param_grid, cv=5, scoring='neg_mean_squared_error', n_jobs=-1)\n",
    "grid_search.fit(X_train, y_train)\n",
    "\n",
    "best_params = grid_search.best_params_\n",
    "best_model_dtrcv = grid_search.best_estimator_"
   ]
  },
  {
   "cell_type": "code",
   "execution_count": null,
   "metadata": {},
   "outputs": [
    {
     "name": "stdout",
     "output_type": "stream",
     "text": [
      "Average Error: 23.3741 degrees.\n",
      "RMSE = 36.35%.\n"
     ]
    }
   ],
   "source": [
    "model_dtrcv, rmse_dtrcv, tt_dtrcv = evaluate(best_model_dtrcv, X_test, y_test)"
   ]
  },
  {
   "cell_type": "code",
   "execution_count": 22,
   "metadata": {},
   "outputs": [
    {
     "name": "stdout",
     "output_type": "stream",
     "text": [
      "Model          RMSE       Time taken\n",
      "Decision Tree  31.772203  0.533729      1\n",
      "ElasticNet     36.757039  4.964258      1\n",
      "KNN            62.858820  0.212538      1\n",
      "Lasso          36.757156  0.905277      1\n",
      "LightGBM       23.083564  1.291287      1\n",
      "Random Forest  23.013467  287.496516    1\n",
      "SVR            65.640447  215.106444    1\n",
      "XGBoost        23.694399  68.759140     1\n",
      "Name: count, dtype: int64\n"
     ]
    },
    {
     "data": {
      "image/png": "[encoded data removed]",
      "text/plain": [
       "<Figure size 800x600 with 2 Axes>"
      ]
     },
     "metadata": {},
     "output_type": "display_data"
    }
   ],
   "source": [
    "import pandas as pd\n",
    "import seaborn as sns\n",
    "\n",
    "rmse = [rmse_rf, rmse_xgb, rmse_lgb, rmse_elcv, rmse_lcv, rmse_knn, rmse_svr, rmse_dtr]\n",
    "tt = [tt_rf, tt_xgb, tt_lgb, tt_elcv, tt_lcv, tt_knn, tt_svr, tt_dtr]\n",
    "\n",
    "model_data = {'Model': ['Random Forest', 'XGBoost', 'LightGBM', 'ElasticNet', 'Lasso', 'KNN', 'SVR', 'Decision Tree'],\n",
    "              'RMSE': rmse,\n",
    "              'Time taken': tt}\n",
    "model_data = pd.DataFrame(model_data)\n",
    "\n",
    "score = model_data[['Model', 'RMSE', 'Time taken']].value_counts()\n",
    "print(score)\n",
    "\n",
    "fig, ax1 = plt.subplots(figsize=(8,6))\n",
    "ax1.set_title('Model Comparison: RMSE and Time taken for execution', fontsize=13)\n",
    "color = 'tab:green'\n",
    "ax1.set_xlabel('Model', fontsize=10)\n",
    "ax1.set_ylabel('Time taken (s)', fontsize=10, color=color)\n",
    "ax2 = sns.barplot(x='Model', y='Time taken', data = model_data, hue='Model', legend=False, palette='winter')\n",
    "ax1.tick_params(axis='y')\n",
    "ax2 = ax1.twinx()\n",
    "color = 'tab:red'\n",
    "ax2.set_ylabel('RMSE', fontsize=10, color=color)\n",
    "ax2 = sns.lineplot(x='Model', y='RMSE', data = model_data, sort=False, color=color)\n",
    "ax2.tick_params(axis='y', color=color)\n",
    "\n",
    "ax1.set_xticklabels(ax1.get_xticklabels(), rotation=30, ha='right')\n",
    "\n",
    "plt.show()"
   ]
  }
 ],
 "metadata": {
  "kernelspec": {
   "display_name": "Python 3",
   "language": "python",
   "name": "python3"
  },
  "language_info": {
   "codemirror_mode": {
    "name": "ipython",
    "version": 3
   },
   "file_extension": ".py",
   "mimetype": "text/x-python",
   "name": "python",
   "nbconvert_exporter": "python",
   "pygments_lexer": "ipython3",
   "version": "3.10.11"
  }
 },
 "nbformat": 4,
 "nbformat_minor": 2
}
