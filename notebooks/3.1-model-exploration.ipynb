{
 "cells": [
  {
   "cell_type": "code",
   "execution_count": 2,
   "metadata": {},
   "outputs": [
    {
     "data": {
      "text/plain": [
       "array(['Fuel Consumption City (l/100km)',\n",
       "       'Fuel Consumption Hwy (l/100km)',\n",
       "       'Fuel Consumption Comb (l/100km)', 'Engine Size(L)', 'Cylinders',\n",
       "       'Id', 'Make', 'Vehicle Class', 'Transmission', 'Fuel Type',\n",
       "       'CO2 Emissions(g/km)'], dtype=object)"
      ]
     },
     "execution_count": 2,
     "metadata": {},
     "output_type": "execute_result"
    }
   ],
   "source": [
    "import pickle\n",
    "\n",
    "with open('../data/processed/train-processed-v2.pkl', 'rb') as f:\n",
    "    train = pickle.load(f)\n",
    "    \n",
    "with open('../data/processed/test-processed-v2.pkl', 'rb') as f:\n",
    "    test = pickle.load(f)\n",
    "    \n",
    "train.columns.to_numpy()"
   ]
  },
  {
   "cell_type": "code",
   "execution_count": 3,
   "metadata": {},
   "outputs": [],
   "source": [
    "# Bagi data menjadi fitur dan target\n",
    "features = train.drop('CO2 Emissions(g/km)', axis=1)\n",
    "target = train['CO2 Emissions(g/km)']"
   ]
  },
  {
   "cell_type": "code",
   "execution_count": 4,
   "metadata": {},
   "outputs": [],
   "source": [
    "import time\n",
    "import numpy as np\n",
    "import matplotlib.pyplot as plt\n",
    "from sklearn.metrics import mean_squared_error\n",
    "\n",
    "def run_model(model, X_train, y_train, X_test, y_test, verbose=True):\n",
    "    t_0 = time.time()\n",
    "    if verbose == False:\n",
    "        model.fit(X_train, y_train, verbose=0)\n",
    "    else:\n",
    "        model.fit(X_train, y_train)\n",
    "    \n",
    "    y_pred = model.predict(X_test)\n",
    "    rmse = np.sqrt(mean_squared_error(y_test, y_pred))\n",
    "    time_taken = time.time() - t_0\n",
    "    \n",
    "    print(\"RMSE = {}\".format(rmse))\n",
    "    \n",
    "    return model, rmse, time_taken"
   ]
  },
  {
   "cell_type": "code",
   "execution_count": 5,
   "metadata": {},
   "outputs": [],
   "source": [
    "# Split data for performance testing\n",
    "\n",
    "from sklearn.model_selection import train_test_split\n",
    "X_train, X_test, y_train, y_test = train_test_split(features, target, test_size=0.25, random_state=12345)"
   ]
  },
  {
   "cell_type": "markdown",
   "metadata": {},
   "source": [
    "Training with Different Models"
   ]
  },
  {
   "cell_type": "code",
   "execution_count": 37,
   "metadata": {},
   "outputs": [
    {
     "name": "stdout",
     "output_type": "stream",
     "text": [
      "RMSE = 34.78222021587327\n"
     ]
    }
   ],
   "source": [
    "from xgboost import XGBRegressor\n",
    "\n",
    "params_xgb = {\n",
    "    'objective': 'reg:squarederror',  # Specify the objective for regression tasks\n",
    "    'colsample_bytree': 0.8,          # Fraction of features to be randomly sampled for each tree\n",
    "    'learning_rate': 0.07,             # Step size shrinkage to prevent overfitting\n",
    "    'max_depth': 64,                  # Maximum depth of a tree\n",
    "    'alpha': 10,                      # L1 regularization term on weights\n",
    "    'n_estimators': 10000,              # Number of boosting rounds\n",
    "    'subsample': 0.8,                 # Fraction of samples used for each boosting round\n",
    "    'random_state': 41230\n",
    "}\n",
    "\n",
    "model_xgb = XGBRegressor(**params_xgb)\n",
    "model_xgb, rmse_xgb, tt_xgb = run_model(model_xgb, X_train, y_train, X_test, y_test)"
   ]
  },
  {
   "cell_type": "code",
   "execution_count": 41,
   "metadata": {},
   "outputs": [
    {
     "name": "stdout",
     "output_type": "stream",
     "text": [
      "[LightGBM] [Warning] Found whitespace in feature_names, replace with underlines\n",
      "[LightGBM] [Info] Auto-choosing row-wise multi-threading, the overhead of testing was 0.001335 seconds.\n",
      "You can set `force_row_wise=true` to remove the overhead.\n",
      "And if memory is not enough, you can set `force_col_wise=true`.\n",
      "[LightGBM] [Info] Total Bins 1446\n",
      "[LightGBM] [Info] Number of data points in the train set: 102855, number of used features: 10\n",
      "[LightGBM] [Warning] Found whitespace in feature_names, replace with underlines\n",
      "[LightGBM] [Info] Start training from score 242.257585\n",
      "RMSE = 33.47753885335714\n"
     ]
    }
   ],
   "source": [
    "import lightgbm as lgb\n",
    "\n",
    "train_data = lgb.Dataset(X_train, label=y_train)\n",
    "test_data = lgb.Dataset(X_test, label=y_test, reference=train_data)\n",
    "\n",
    "params_lgb = {\n",
    "    'objective': 'regression',  # 'regression' for regression tasks\n",
    "    'metric': 'rmse',           # Root Mean Squared Error (RMSE) for regression\n",
    "    'boosting_type': 'gbdt',    # Gradient Boosting Decision Tree\n",
    "    'num_leaves': 512,           # Maximum tree leaves for base learners\n",
    "    'learning_rate': 0.08,\n",
    "    'feature_fraction': 0.9\n",
    "}\n",
    "\n",
    "num_round = 100\n",
    "\n",
    "t_0 = time.time()\n",
    "\n",
    "model_lgb = lgb.train(params_lgb, train_data, num_round, valid_sets=[test_data])\n",
    "y_pred = model_lgb.predict(X_test, num_iteration=model_lgb.best_iteration)\n",
    "rmse_lgb = np.sqrt(mean_squared_error(y_test, y_pred))\n",
    "\n",
    "time_taken = time.time() - t_0\n",
    "tt_lgb = time_taken\n",
    "\n",
    "print(\"RMSE = {}\".format(rmse_lgb))"
   ]
  },
  {
   "cell_type": "code",
   "execution_count": 8,
   "metadata": {},
   "outputs": [
    {
     "name": "stderr",
     "output_type": "stream",
     "text": [
      "[Parallel(n_jobs=-1)]: Using backend ThreadingBackend with 8 concurrent workers.\n",
      "[Parallel(n_jobs=-1)]: Done  34 tasks      | elapsed:    2.0s\n",
      "[Parallel(n_jobs=-1)]: Done 184 tasks      | elapsed:    9.5s\n",
      "[Parallel(n_jobs=-1)]: Done 434 tasks      | elapsed:   23.2s\n",
      "[Parallel(n_jobs=-1)]: Done 784 tasks      | elapsed:   42.0s\n",
      "[Parallel(n_jobs=-1)]: Done 1234 tasks      | elapsed:  1.1min\n",
      "[Parallel(n_jobs=-1)]: Done 1784 tasks      | elapsed:  1.6min\n",
      "[Parallel(n_jobs=-1)]: Done 2434 tasks      | elapsed:  2.2min\n",
      "[Parallel(n_jobs=-1)]: Done 3184 tasks      | elapsed:  2.9min\n",
      "[Parallel(n_jobs=-1)]: Done 4034 tasks      | elapsed:  3.7min\n",
      "[Parallel(n_jobs=-1)]: Done 4984 tasks      | elapsed:  4.7min\n",
      "[Parallel(n_jobs=-1)]: Done 6034 tasks      | elapsed:  5.7min\n",
      "[Parallel(n_jobs=-1)]: Done 7184 tasks      | elapsed:  6.8min\n",
      "[Parallel(n_jobs=-1)]: Done 8434 tasks      | elapsed:  8.0min\n",
      "[Parallel(n_jobs=-1)]: Done 9784 tasks      | elapsed:  9.3min\n",
      "[Parallel(n_jobs=-1)]: Done 10000 out of 10000 | elapsed:  9.5min finished\n",
      "[Parallel(n_jobs=8)]: Using backend ThreadingBackend with 8 concurrent workers.\n",
      "[Parallel(n_jobs=8)]: Done  34 tasks      | elapsed:    0.1s\n",
      "[Parallel(n_jobs=8)]: Done 184 tasks      | elapsed:    0.8s\n",
      "[Parallel(n_jobs=8)]: Done 434 tasks      | elapsed:    1.9s\n",
      "[Parallel(n_jobs=8)]: Done 784 tasks      | elapsed:    3.2s\n",
      "[Parallel(n_jobs=8)]: Done 1234 tasks      | elapsed:    5.0s\n",
      "[Parallel(n_jobs=8)]: Done 1784 tasks      | elapsed:    6.8s\n",
      "[Parallel(n_jobs=8)]: Done 2434 tasks      | elapsed:    9.2s\n",
      "[Parallel(n_jobs=8)]: Done 3184 tasks      | elapsed:   11.9s\n",
      "[Parallel(n_jobs=8)]: Done 4034 tasks      | elapsed:   14.8s\n",
      "[Parallel(n_jobs=8)]: Done 4984 tasks      | elapsed:   18.0s\n",
      "[Parallel(n_jobs=8)]: Done 6034 tasks      | elapsed:   21.9s\n",
      "[Parallel(n_jobs=8)]: Done 7184 tasks      | elapsed:   27.3s\n",
      "[Parallel(n_jobs=8)]: Done 8434 tasks      | elapsed:   32.8s\n",
      "[Parallel(n_jobs=8)]: Done 9784 tasks      | elapsed:   39.3s\n"
     ]
    },
    {
     "name": "stdout",
     "output_type": "stream",
     "text": [
      "RMSE = 33.69322818090772\n"
     ]
    },
    {
     "name": "stderr",
     "output_type": "stream",
     "text": [
      "[Parallel(n_jobs=8)]: Done 10000 out of 10000 | elapsed:   40.6s finished\n"
     ]
    }
   ],
   "source": [
    "from sklearn.ensemble import RandomForestRegressor\n",
    "\n",
    "params_rf = {\n",
    "    'n_estimators': 10000,\n",
    "    'max_depth': 64,\n",
    "    'n_jobs': -1,\n",
    "    'verbose': 1,\n",
    "    'warm_start': True,\n",
    "    'max_features': 'sqrt',\n",
    "    'min_samples_leaf': 2,\n",
    "    'min_samples_split': 10,\n",
    "    'bootstrap': True,\n",
    "    'oob_score': True,\n",
    "    'criterion': 'squared_error',\n",
    "    'random_state': 41230\n",
    "}\n",
    "\n",
    "model_rf = RandomForestRegressor(**params_rf)\n",
    "model_rf, rmse_rf, tt_rf = run_model(model_rf, X_train, y_train, X_test, y_test)"
   ]
  },
  {
   "cell_type": "code",
   "execution_count": 9,
   "metadata": {},
   "outputs": [],
   "source": [
    "def evaluate(model, test_features, test_labels):\n",
    "    t_0 = time.time()\n",
    "    \n",
    "    predictions = model.predict(test_features)\n",
    "    errors = abs(predictions - test_labels)\n",
    "    rmse = np.sqrt(mean_squared_error(test_labels, predictions))\n",
    "    \n",
    "    time_taken = time.time() - t_0\n",
    "    \n",
    "    print('Average Error: {:0.4f} degrees.'.format(np.mean(errors)))\n",
    "    print('RMSE = {:0.2f}%.'.format(rmse))\n",
    "    \n",
    "    return model, rmse, time_taken"
   ]
  },
  {
   "cell_type": "code",
   "execution_count": 10,
   "metadata": {},
   "outputs": [],
   "source": [
    "# # Hyperparameter tuning with GridSearchCV\n",
    "# from sklearn.model_selection import GridSearchCV\n",
    "\n",
    "# param_grid = {\n",
    "#     'bootstrap': [True],\n",
    "#     'max_depth': [8, 16, 32, 48],\n",
    "#     # 'max_features': [None, 'sqrt', 'log2', 0.1, 0.5, 0.9],\n",
    "#     # 'min_samples_leaf': [3, 4, 5],\n",
    "#     # 'min_samples_split': [8, 10, 12],\n",
    "#     'n_estimators': [100, 200, 300, 1000]\n",
    "# }\n",
    "\n",
    "# model_rfg = RandomForestRegressor()\n",
    "# model_gs = GridSearchCV(estimator=model_rfg, param_grid=param_grid, cv=3, n_jobs=-1, verbose=2)\n",
    "\n",
    "# # Fit grid search to find the best model\n",
    "# model_gs.fit(X_train, y_train)\n",
    "# model_gs.best_params_\n",
    "\n",
    "# model_gs_best = model_gs.best_estimator_"
   ]
  },
  {
   "cell_type": "code",
   "execution_count": 15,
   "metadata": {},
   "outputs": [],
   "source": [
    "# model_gs, grid_rmse, tt_gs = evaluate(model_gs_best, X_test, y_test)\n",
    "\n",
    "# print('Improvement of {:0.2f}%.'.format( 100 * (grid_rmse - rmse_rf) / rmse_rf))"
   ]
  },
  {
   "cell_type": "code",
   "execution_count": 19,
   "metadata": {},
   "outputs": [
    {
     "name": "stdout",
     "output_type": "stream",
     "text": [
      "RMSE = 46.23089247456918\n"
     ]
    }
   ],
   "source": [
    "from sklearn.linear_model import ElasticNetCV\n",
    "\n",
    "alpha_space = np.linspace(0.01, 1, 100)\n",
    "\n",
    "params_elcv = {\n",
    "    'l1_ratio': [0.1, 0.5, 0.7, 0.9, 0.95, 0.99, 1],\n",
    "    'alphas': alpha_space,\n",
    "    'cv': 10,\n",
    "    'max_iter': 100000,\n",
    "    'random_state': 128\n",
    "}\n",
    "\n",
    "model_elcv = ElasticNetCV(**params_elcv)\n",
    "model_elcv, rmse_elcv, tt_elcv = run_model(model_elcv, X_train, y_train, X_test, y_test)"
   ]
  },
  {
   "cell_type": "code",
   "execution_count": 20,
   "metadata": {},
   "outputs": [
    {
     "name": "stdout",
     "output_type": "stream",
     "text": [
      "RMSE = 46.23089247456918\n"
     ]
    }
   ],
   "source": [
    "from sklearn.linear_model import LassoCV\n",
    "\n",
    "params_lcv = {\n",
    "    'alphas': alpha_space,\n",
    "    'cv': 10,\n",
    "    'max_iter': 100000,\n",
    "    'random_state': 128\n",
    "}\n",
    "\n",
    "model_lcv = LassoCV(**params_lcv)\n",
    "model_lcv, rmse_lcv, tt_lcv = run_model(model_lcv, X_train, y_train, X_test, y_test)"
   ]
  },
  {
   "cell_type": "code",
   "execution_count": 16,
   "metadata": {},
   "outputs": [
    {
     "name": "stdout",
     "output_type": "stream",
     "text": [
      "RMSE = 61.74894512751282\n"
     ]
    }
   ],
   "source": [
    "from sklearn.neighbors import KNeighborsRegressor\n",
    "\n",
    "params_knn = {\n",
    "    'n_neighbors': 5,\n",
    "    'weights': 'distance',\n",
    "    'algorithm': 'auto',\n",
    "    'leaf_size': 30,\n",
    "    'p': 2,\n",
    "    'metric': 'minkowski',\n",
    "    'n_jobs': -1\n",
    "}\n",
    "\n",
    "model_knn = KNeighborsRegressor(**params_knn)\n",
    "model_knn, rmse_knn, tt_knn = run_model(model_knn, X_train, y_train, X_test, y_test)"
   ]
  },
  {
   "cell_type": "code",
   "execution_count": 18,
   "metadata": {},
   "outputs": [
    {
     "name": "stdout",
     "output_type": "stream",
     "text": [
      "RMSE = 62.94335257299199\n"
     ]
    }
   ],
   "source": [
    "from sklearn.svm import SVR\n",
    "\n",
    "params_svr = {\n",
    "    'kernel': 'rbf',\n",
    "    'degree': 3,\n",
    "    'gamma': 'scale',\n",
    "    'coef0': 0.0,\n",
    "    'tol': 0.001,\n",
    "    'C': 1.0,\n",
    "    'epsilon': 0.1,\n",
    "    'shrinking': True,\n",
    "    'cache_size': 200,\n",
    "    'verbose': False,\n",
    "    'max_iter': -1\n",
    "}\n",
    "\n",
    "model_svr = SVR(**params_svr)\n",
    "model_svr, rmse_svr, tt_svr = run_model(model_svr, X_train, y_train, X_test, y_test)"
   ]
  },
  {
   "cell_type": "code",
   "execution_count": 27,
   "metadata": {},
   "outputs": [
    {
     "name": "stdout",
     "output_type": "stream",
     "text": [
      "RMSE = 47.411349057519104\n"
     ]
    }
   ],
   "source": [
    "from sklearn.tree import DecisionTreeRegressor\n",
    "\n",
    "params_dtr = {\n",
    "    'criterion': 'squared_error',\n",
    "    'splitter': 'best',\n",
    "    'max_depth': 128,\n",
    "    'min_samples_split': 2,\n",
    "    'min_samples_leaf': 1,\n",
    "    'min_weight_fraction_leaf': 0.0,\n",
    "    'random_state': 128,\n",
    "    'min_impurity_decrease': 0.0,\n",
    "}\n",
    "\n",
    "model_dtr = DecisionTreeRegressor(**params_dtr)\n",
    "model_dtr, rmse_dtr, tt_dtr = run_model(model_dtr, X_train, y_train, X_test, y_test)"
   ]
  },
  {
   "cell_type": "code",
   "execution_count": 29,
   "metadata": {},
   "outputs": [],
   "source": [
    "from sklearn.tree import DecisionTreeRegressor\n",
    "from sklearn.model_selection import GridSearchCV\n",
    "import warnings\n",
    "warnings.filterwarnings('ignore')\n",
    "\n",
    "param_grid = {\n",
    "    'criterion': ['mse', 'friedman_mse', 'mae'],\n",
    "    'splitter': ['best', 'random'],\n",
    "    'max_depth': [None, 16, 32, 64, 128],\n",
    "    'min_samples_split': [2, 5, 10],\n",
    "    'min_samples_leaf': [1, 2, 4],\n",
    "    'min_weight_fraction_leaf': [0.0, 0.1, 0.2],\n",
    "    'min_impurity_decrease': [0.0, 0.1, 0.2],\n",
    "    'random_state': [128],\n",
    "}\n",
    "\n",
    "model_dtrcv = DecisionTreeRegressor()\n",
    "\n",
    "grid_search = GridSearchCV(model_dtrcv, param_grid, cv=5, scoring='neg_mean_squared_error', n_jobs=-1)\n",
    "grid_search.fit(X_train, y_train)\n",
    "\n",
    "best_params = grid_search.best_params_\n",
    "best_model_dtrcv = grid_search.best_estimator_"
   ]
  },
  {
   "cell_type": "code",
   "execution_count": 30,
   "metadata": {},
   "outputs": [
    {
     "name": "stdout",
     "output_type": "stream",
     "text": [
      "Average Error: 23.3741 degrees.\n",
      "RMSE = 36.35%.\n"
     ]
    }
   ],
   "source": [
    "model_dtrcv, rmse_dtrcv, tt_dtrcv = evaluate(best_model_dtrcv, X_test, y_test)"
   ]
  },
  {
   "cell_type": "code",
   "execution_count": 38,
   "metadata": {},
   "outputs": [
    {
     "name": "stdout",
     "output_type": "stream",
     "text": [
      "Model             RMSE       Time taken \n",
      "Decision Tree     47.411349  1.344876       1\n",
      "Decision Tree CV  36.353423  0.013720       1\n",
      "ElasticNet        46.230892  4.110443       1\n",
      "KNN               61.748945  0.307843       1\n",
      "Lasso             46.230892  0.662832       1\n",
      "LightGBM          34.065439  0.660145       1\n",
      "Random Forest     33.693228  813.784943     1\n",
      "SVR               62.943353  1784.322954    1\n",
      "XGBoost           34.782220  496.901495     1\n",
      "Name: count, dtype: int64\n"
     ]
    },
    {
     "data": {
      "image/png": "[encoded data removed]",
      "text/plain": [
       "<Figure size 800x600 with 2 Axes>"
      ]
     },
     "metadata": {},
     "output_type": "display_data"
    }
   ],
   "source": [
    "import pandas as pd\n",
    "import seaborn as sns\n",
    "\n",
    "rmse = [rmse_rf, rmse_xgb, rmse_lgb, rmse_elcv, rmse_lcv, rmse_knn, rmse_svr, rmse_dtr, rmse_dtrcv]\n",
    "tt = [tt_rf, tt_xgb, tt_lgb, tt_elcv, tt_lcv, tt_knn, tt_svr, tt_dtr, tt_dtrcv]\n",
    "\n",
    "model_data = {'Model': ['Random Forest', 'XGBoost', 'LightGBM', 'ElasticNet', 'Lasso', 'KNN', 'SVR', 'Decision Tree', 'Decision Tree CV'],\n",
    "              'RMSE': rmse,\n",
    "              'Time taken': tt}\n",
    "model_data = pd.DataFrame(model_data)\n",
    "\n",
    "score = model_data[['Model', 'RMSE', 'Time taken']].value_counts()\n",
    "print(score)\n",
    "\n",
    "fig, ax1 = plt.subplots(figsize=(8,6))\n",
    "ax1.set_title('Model Comparison: RMSE and Time taken for execution', fontsize=13)\n",
    "color = 'tab:green'\n",
    "ax1.set_xlabel('Model', fontsize=10)\n",
    "ax1.set_ylabel('Time taken (s)', fontsize=10, color=color)\n",
    "ax2 = sns.barplot(x='Model', y='Time taken', data = model_data, hue='Model', legend=False, palette='winter')\n",
    "ax1.tick_params(axis='y')\n",
    "ax2 = ax1.twinx()\n",
    "color = 'tab:red'\n",
    "ax2.set_ylabel('RMSE', fontsize=10, color=color)\n",
    "ax2 = sns.lineplot(x='Model', y='RMSE', data = model_data, sort=False, color=color)\n",
    "ax2.tick_params(axis='y', color=color)\n",
    "\n",
    "ax1.set_xticklabels(ax1.get_xticklabels(), rotation=30, ha='right')\n",
    "\n",
    "plt.show()"
   ]
  }
 ],
 "metadata": {
  "kernelspec": {
   "display_name": "Python 3",
   "language": "python",
   "name": "python3"
  },
  "language_info": {
   "codemirror_mode": {
    "name": "ipython",
    "version": 3
   },
   "file_extension": ".py",
   "mimetype": "text/x-python",
   "name": "python",
   "nbconvert_exporter": "python",
   "pygments_lexer": "ipython3",
   "version": "3.11.4"
  }
 },
 "nbformat": 4,
 "nbformat_minor": 2
}
