{
 "cells": [
  {
   "cell_type": "code",
   "execution_count": 16,
   "metadata": {},
   "outputs": [
    {
     "data": {
      "text/html": [
       "<div>\n",
       "<style scoped>\n",
       "    .dataframe tbody tr th:only-of-type {\n",
       "        vertical-align: middle;\n",
       "    }\n",
       "\n",
       "    .dataframe tbody tr th {\n",
       "        vertical-align: top;\n",
       "    }\n",
       "\n",
       "    .dataframe thead th {\n",
       "        text-align: right;\n",
       "    }\n",
       "</style>\n",
       "<table border=\"1\" class=\"dataframe\">\n",
       "  <thead>\n",
       "    <tr style=\"text-align: right;\">\n",
       "      <th></th>\n",
       "      <th>Id</th>\n",
       "      <th>Make</th>\n",
       "      <th>Vehicle Class</th>\n",
       "      <th>Engine Size(L)</th>\n",
       "      <th>Cylinders</th>\n",
       "      <th>Transmission</th>\n",
       "      <th>Fuel Type</th>\n",
       "      <th>Fuel Consumption City</th>\n",
       "      <th>Fuel Consumption Hwy</th>\n",
       "      <th>Fuel Consumption Comb</th>\n",
       "    </tr>\n",
       "  </thead>\n",
       "  <tbody>\n",
       "    <tr>\n",
       "      <th>0</th>\n",
       "      <td>137142</td>\n",
       "      <td>CADILUXE</td>\n",
       "      <td>MID-SIZE</td>\n",
       "      <td>3.6</td>\n",
       "      <td>NaN</td>\n",
       "      <td>AS8</td>\n",
       "      <td>X</td>\n",
       "      <td>6.40 km/L</td>\n",
       "      <td>1.77 L/100 km</td>\n",
       "      <td>25.04 MPG (AS)</td>\n",
       "    </tr>\n",
       "    <tr>\n",
       "      <th>1</th>\n",
       "      <td>137143</td>\n",
       "      <td>FOLD</td>\n",
       "      <td>VAN - PASSENGER</td>\n",
       "      <td>3.7</td>\n",
       "      <td>6.0</td>\n",
       "      <td>AS6</td>\n",
       "      <td>X</td>\n",
       "      <td>21.11 L/100km</td>\n",
       "      <td>14.38 liters per 100 km</td>\n",
       "      <td>5.53 km per L</td>\n",
       "    </tr>\n",
       "    <tr>\n",
       "      <th>2</th>\n",
       "      <td>137144</td>\n",
       "      <td>MITSU</td>\n",
       "      <td>SUV - SMALL</td>\n",
       "      <td>6.0</td>\n",
       "      <td>NaN</td>\n",
       "      <td>AV6</td>\n",
       "      <td>X</td>\n",
       "      <td>9.60 MPG (AS)</td>\n",
       "      <td>27.45 mpg Imp.</td>\n",
       "      <td>12.99 MPG (AS)</td>\n",
       "    </tr>\n",
       "    <tr>\n",
       "      <th>3</th>\n",
       "      <td>137145</td>\n",
       "      <td>LECUS</td>\n",
       "      <td>MID-SIZE</td>\n",
       "      <td>4.6</td>\n",
       "      <td>NaN</td>\n",
       "      <td>AS8</td>\n",
       "      <td>Z</td>\n",
       "      <td>1.68 L/10km</td>\n",
       "      <td>6.29 km/L</td>\n",
       "      <td>16.42 L/100km</td>\n",
       "    </tr>\n",
       "    <tr>\n",
       "      <th>4</th>\n",
       "      <td>137146</td>\n",
       "      <td>BMV</td>\n",
       "      <td>SUV - STANDARD</td>\n",
       "      <td>4.4</td>\n",
       "      <td>8.0</td>\n",
       "      <td>AS8</td>\n",
       "      <td>Z</td>\n",
       "      <td>5.65 MPG (AS)</td>\n",
       "      <td>14.75 mpg Imp.</td>\n",
       "      <td>31.52 L/100km</td>\n",
       "    </tr>\n",
       "  </tbody>\n",
       "</table>\n",
       "</div>"
      ],
      "text/plain": [
       "       Id      Make    Vehicle Class Engine Size(L) Cylinders Transmission  \\\n",
       "0  137142  CADILUXE         MID-SIZE            3.6       NaN          AS8   \n",
       "1  137143      FOLD  VAN - PASSENGER            3.7       6.0          AS6   \n",
       "2  137144     MITSU      SUV - SMALL            6.0       NaN          AV6   \n",
       "3  137145     LECUS         MID-SIZE            4.6       NaN          AS8   \n",
       "4  137146       BMV   SUV - STANDARD            4.4       8.0          AS8   \n",
       "\n",
       "  Fuel Type Fuel Consumption City     Fuel Consumption Hwy  \\\n",
       "0         X             6.40 km/L            1.77 L/100 km   \n",
       "1         X         21.11 L/100km  14.38 liters per 100 km   \n",
       "2         X         9.60 MPG (AS)           27.45 mpg Imp.   \n",
       "3         Z           1.68 L/10km                6.29 km/L   \n",
       "4         Z         5.65 MPG (AS)           14.75 mpg Imp.   \n",
       "\n",
       "  Fuel Consumption Comb  \n",
       "0        25.04 MPG (AS)  \n",
       "1         5.53 km per L  \n",
       "2        12.99 MPG (AS)  \n",
       "3         16.42 L/100km  \n",
       "4         31.52 L/100km  "
      ]
     },
     "execution_count": 16,
     "metadata": {},
     "output_type": "execute_result"
    }
   ],
   "source": [
    "import pandas as pd\n",
    "import numpy as np\n",
    "\n",
    "test = pd.read_csv('../data/raw/test.csv')\n",
    "test.head()"
   ]
  },
  {
   "cell_type": "code",
   "execution_count": 112,
   "metadata": {},
   "outputs": [
    {
     "data": {
      "text/plain": [
       "(58776, 10)"
      ]
     },
     "execution_count": 112,
     "metadata": {},
     "output_type": "execute_result"
    }
   ],
   "source": [
    "test.shape"
   ]
  },
  {
   "cell_type": "code",
   "execution_count": 113,
   "metadata": {},
   "outputs": [
    {
     "data": {
      "text/plain": [
       "<Axes: >"
      ]
     },
     "execution_count": 113,
     "metadata": {},
     "output_type": "execute_result"
    },
    {
     "data": {
      "image/png": "[encoded data removed]",
      "text/plain": [
       "<Figure size 640x480 with 1 Axes>"
      ]
     },
     "metadata": {},
     "output_type": "display_data"
    }
   ],
   "source": [
    "import seaborn as sns\n",
    "sns.heatmap(test.isnull(), cbar=False, cmap='PuBu')"
   ]
  },
  {
   "cell_type": "code",
   "execution_count": 114,
   "metadata": {},
   "outputs": [
    {
     "data": {
      "text/html": [
       "<div>\n",
       "<style scoped>\n",
       "    .dataframe tbody tr th:only-of-type {\n",
       "        vertical-align: middle;\n",
       "    }\n",
       "\n",
       "    .dataframe tbody tr th {\n",
       "        vertical-align: top;\n",
       "    }\n",
       "\n",
       "    .dataframe thead th {\n",
       "        text-align: right;\n",
       "    }\n",
       "</style>\n",
       "<table border=\"1\" class=\"dataframe\">\n",
       "  <thead>\n",
       "    <tr style=\"text-align: right;\">\n",
       "      <th></th>\n",
       "      <th>Total</th>\n",
       "      <th>Percent</th>\n",
       "    </tr>\n",
       "  </thead>\n",
       "  <tbody>\n",
       "    <tr>\n",
       "      <th>Engine Size(L)</th>\n",
       "      <td>7239</td>\n",
       "      <td>0.123163</td>\n",
       "    </tr>\n",
       "    <tr>\n",
       "      <th>Cylinders</th>\n",
       "      <td>5954</td>\n",
       "      <td>0.101300</td>\n",
       "    </tr>\n",
       "    <tr>\n",
       "      <th>Transmission</th>\n",
       "      <td>1155</td>\n",
       "      <td>0.019651</td>\n",
       "    </tr>\n",
       "    <tr>\n",
       "      <th>Fuel Consumption Comb</th>\n",
       "      <td>1135</td>\n",
       "      <td>0.019311</td>\n",
       "    </tr>\n",
       "    <tr>\n",
       "      <th>Fuel Consumption City</th>\n",
       "      <td>1047</td>\n",
       "      <td>0.017813</td>\n",
       "    </tr>\n",
       "    <tr>\n",
       "      <th>Fuel Consumption Hwy</th>\n",
       "      <td>995</td>\n",
       "      <td>0.016929</td>\n",
       "    </tr>\n",
       "    <tr>\n",
       "      <th>Fuel Type</th>\n",
       "      <td>770</td>\n",
       "      <td>0.013101</td>\n",
       "    </tr>\n",
       "    <tr>\n",
       "      <th>Vehicle Class</th>\n",
       "      <td>533</td>\n",
       "      <td>0.009068</td>\n",
       "    </tr>\n",
       "    <tr>\n",
       "      <th>Id</th>\n",
       "      <td>0</td>\n",
       "      <td>0.000000</td>\n",
       "    </tr>\n",
       "    <tr>\n",
       "      <th>Make</th>\n",
       "      <td>0</td>\n",
       "      <td>0.000000</td>\n",
       "    </tr>\n",
       "  </tbody>\n",
       "</table>\n",
       "</div>"
      ],
      "text/plain": [
       "                       Total   Percent\n",
       "Engine Size(L)          7239  0.123163\n",
       "Cylinders               5954  0.101300\n",
       "Transmission            1155  0.019651\n",
       "Fuel Consumption Comb   1135  0.019311\n",
       "Fuel Consumption City   1047  0.017813\n",
       "Fuel Consumption Hwy     995  0.016929\n",
       "Fuel Type                770  0.013101\n",
       "Vehicle Class            533  0.009068\n",
       "Id                         0  0.000000\n",
       "Make                       0  0.000000"
      ]
     },
     "execution_count": 114,
     "metadata": {},
     "output_type": "execute_result"
    }
   ],
   "source": [
    "sum_null = test.isnull().sum()\n",
    "count_null = test.isnull().count()\n",
    "\n",
    "total = sum_null.sort_values(ascending=False)\n",
    "percent = sum_null/count_null.sort_values(ascending=False)\n",
    "missing = pd.concat([total, percent], axis=1, keys=['Total', 'Percent'])\n",
    "missing.head(10)"
   ]
  },
  {
   "cell_type": "code",
   "execution_count": 17,
   "metadata": {},
   "outputs": [],
   "source": [
    "# Fill missing values dari kolom numerik dengan nilai mean\n",
    "test['Engine Size(L)'] = pd.to_numeric(test['Engine Size(L)'], errors='coerce')\n",
    "test.shape\n",
    "med_val = test['Engine Size(L)'].mean()\n",
    "test['Engine Size(L)'].fillna(med_val, inplace=True)\n",
    "\n",
    "test['Cylinders'] = pd.to_numeric(test['Cylinders'], errors='coerce')\n",
    "med_val = test['Cylinders'].mean()\n",
    "test['Cylinders'].fillna(med_val, inplace=True)"
   ]
  },
  {
   "cell_type": "code",
   "execution_count": 18,
   "metadata": {},
   "outputs": [
    {
     "name": "stdout",
     "output_type": "stream",
     "text": [
      "Fuel City: ['km/L' 'L/100km' 'MPG (AS)' 'L/10km' 'km per L' 'mpg Imp.'\n",
      " 'liters per 100 km' 'L/100 km' nan '']\n",
      "Fuel Hwy: ['L/100 km' 'liters per 100 km' 'mpg Imp.' 'km/L' 'MPG (AS)' 'km per L'\n",
      " 'L/10km' 'L/100km' '' nan]\n",
      "Fuel Comb: ['MPG (AS)' 'km per L' 'L/100km' 'mpg Imp.' 'L/10km' 'km/L'\n",
      " 'liters per 100 km' 'L/100 km' '' nan]\n"
     ]
    }
   ],
   "source": [
    "# Split the column into 'Number' and 'Unit' based on the pattern\n",
    "test_fuel_city = test['Fuel Consumption City'].str.extract(r'(?P<number>[\\d.]+)\\s*(?P<unit>.*)')\n",
    "test_fuel_city['number'] = pd.to_numeric(test_fuel_city['number'], errors='coerce')\n",
    "\n",
    "test_fuel_Hwy = test['Fuel Consumption Hwy'].str.extract(r'(?P<number>[\\d.]+)\\s*(?P<unit>.*)')\n",
    "test_fuel_Hwy['number'] = pd.to_numeric(test_fuel_Hwy['number'], errors='coerce')\n",
    "\n",
    "test_fuel_Comb = test['Fuel Consumption Comb'].str.extract(r'(?P<number>[\\d.]+)\\s*(?P<unit>.*)')\n",
    "test_fuel_Comb['number'] = pd.to_numeric(test_fuel_Comb['number'], errors='coerce')\n",
    "\n",
    "print(f'Fuel City: {test_fuel_city.unit.unique()}')\n",
    "print(f'Fuel Hwy: {test_fuel_Hwy.unit.unique()}')\n",
    "print(f'Fuel Comb: {test_fuel_Comb.unit.unique()}')"
   ]
  },
  {
   "cell_type": "code",
   "execution_count": 27,
   "metadata": {},
   "outputs": [
    {
     "ename": "KeyError",
     "evalue": "\"['Fuel Consumption City'] not found in axis\"",
     "output_type": "error",
     "traceback": [
      "\u001b[0;31m---------------------------------------------------------------------------\u001b[0m",
      "\u001b[0;31mKeyError\u001b[0m                                  Traceback (most recent call last)",
      "\u001b[1;32m/Users/dika-mac/Documents/PROGRAMMING/machine-learning/data-slayer/notebooks/2.0-data-preprocess-test.ipynb Cell 7\u001b[0m line \u001b[0;36m2\n\u001b[1;32m     <a href='vscode-notebook-cell:/Users/dika-mac/Documents/PROGRAMMING/machine-learning/data-slayer/notebooks/2.0-data-preprocess-test.ipynb#W6sZmlsZQ%3D%3D?line=25'>26</a>\u001b[0m \u001b[39m# Convert nilai berdasarkan tipe unit\u001b[39;00m\n\u001b[1;32m     <a href='vscode-notebook-cell:/Users/dika-mac/Documents/PROGRAMMING/machine-learning/data-slayer/notebooks/2.0-data-preprocess-test.ipynb#W6sZmlsZQ%3D%3D?line=26'>27</a>\u001b[0m test[\u001b[39m'\u001b[39m\u001b[39mFuel Consumption City (l/100km)\u001b[39m\u001b[39m'\u001b[39m] \u001b[39m=\u001b[39m test_fuel_city\u001b[39m.\u001b[39mapply(convert_fuel_consumption, axis\u001b[39m=\u001b[39m\u001b[39m1\u001b[39m)\n\u001b[0;32m---> <a href='vscode-notebook-cell:/Users/dika-mac/Documents/PROGRAMMING/machine-learning/data-slayer/notebooks/2.0-data-preprocess-test.ipynb#W6sZmlsZQ%3D%3D?line=27'>28</a>\u001b[0m test\u001b[39m.\u001b[39;49mdrop(columns\u001b[39m=\u001b[39;49m[\u001b[39m'\u001b[39;49m\u001b[39mFuel Consumption City\u001b[39;49m\u001b[39m'\u001b[39;49m], inplace\u001b[39m=\u001b[39;49m\u001b[39mTrue\u001b[39;49;00m)\n\u001b[1;32m     <a href='vscode-notebook-cell:/Users/dika-mac/Documents/PROGRAMMING/machine-learning/data-slayer/notebooks/2.0-data-preprocess-test.ipynb#W6sZmlsZQ%3D%3D?line=29'>30</a>\u001b[0m test[\u001b[39m'\u001b[39m\u001b[39mFuel Consumption Hwy (l/100km)\u001b[39m\u001b[39m'\u001b[39m] \u001b[39m=\u001b[39m test_fuel_Hwy\u001b[39m.\u001b[39mapply(convert_fuel_consumption, axis\u001b[39m=\u001b[39m\u001b[39m1\u001b[39m)\n\u001b[1;32m     <a href='vscode-notebook-cell:/Users/dika-mac/Documents/PROGRAMMING/machine-learning/data-slayer/notebooks/2.0-data-preprocess-test.ipynb#W6sZmlsZQ%3D%3D?line=30'>31</a>\u001b[0m test\u001b[39m.\u001b[39mdrop(columns\u001b[39m=\u001b[39m[\u001b[39m'\u001b[39m\u001b[39mFuel Consumption Hwy\u001b[39m\u001b[39m'\u001b[39m], inplace\u001b[39m=\u001b[39m\u001b[39mTrue\u001b[39;00m)\n",
      "File \u001b[0;32m/Library/Frameworks/Python.framework/Versions/3.11/lib/python3.11/site-packages/pandas/core/frame.py:5344\u001b[0m, in \u001b[0;36mDataFrame.drop\u001b[0;34m(self, labels, axis, index, columns, level, inplace, errors)\u001b[0m\n\u001b[1;32m   5196\u001b[0m \u001b[39mdef\u001b[39;00m \u001b[39mdrop\u001b[39m(\n\u001b[1;32m   5197\u001b[0m     \u001b[39mself\u001b[39m,\n\u001b[1;32m   5198\u001b[0m     labels: IndexLabel \u001b[39m|\u001b[39m \u001b[39mNone\u001b[39;00m \u001b[39m=\u001b[39m \u001b[39mNone\u001b[39;00m,\n\u001b[0;32m   (...)\u001b[0m\n\u001b[1;32m   5205\u001b[0m     errors: IgnoreRaise \u001b[39m=\u001b[39m \u001b[39m\"\u001b[39m\u001b[39mraise\u001b[39m\u001b[39m\"\u001b[39m,\n\u001b[1;32m   5206\u001b[0m ) \u001b[39m-\u001b[39m\u001b[39m>\u001b[39m DataFrame \u001b[39m|\u001b[39m \u001b[39mNone\u001b[39;00m:\n\u001b[1;32m   5207\u001b[0m \u001b[39m    \u001b[39m\u001b[39m\"\"\"\u001b[39;00m\n\u001b[1;32m   5208\u001b[0m \u001b[39m    Drop specified labels from rows or columns.\u001b[39;00m\n\u001b[1;32m   5209\u001b[0m \n\u001b[0;32m   (...)\u001b[0m\n\u001b[1;32m   5342\u001b[0m \u001b[39m            weight  1.0     0.8\u001b[39;00m\n\u001b[1;32m   5343\u001b[0m \u001b[39m    \"\"\"\u001b[39;00m\n\u001b[0;32m-> 5344\u001b[0m     \u001b[39mreturn\u001b[39;00m \u001b[39msuper\u001b[39;49m()\u001b[39m.\u001b[39;49mdrop(\n\u001b[1;32m   5345\u001b[0m         labels\u001b[39m=\u001b[39;49mlabels,\n\u001b[1;32m   5346\u001b[0m         axis\u001b[39m=\u001b[39;49maxis,\n\u001b[1;32m   5347\u001b[0m         index\u001b[39m=\u001b[39;49mindex,\n\u001b[1;32m   5348\u001b[0m         columns\u001b[39m=\u001b[39;49mcolumns,\n\u001b[1;32m   5349\u001b[0m         level\u001b[39m=\u001b[39;49mlevel,\n\u001b[1;32m   5350\u001b[0m         inplace\u001b[39m=\u001b[39;49minplace,\n\u001b[1;32m   5351\u001b[0m         errors\u001b[39m=\u001b[39;49merrors,\n\u001b[1;32m   5352\u001b[0m     )\n",
      "File \u001b[0;32m/Library/Frameworks/Python.framework/Versions/3.11/lib/python3.11/site-packages/pandas/core/generic.py:4711\u001b[0m, in \u001b[0;36mNDFrame.drop\u001b[0;34m(self, labels, axis, index, columns, level, inplace, errors)\u001b[0m\n\u001b[1;32m   4709\u001b[0m \u001b[39mfor\u001b[39;00m axis, labels \u001b[39min\u001b[39;00m axes\u001b[39m.\u001b[39mitems():\n\u001b[1;32m   4710\u001b[0m     \u001b[39mif\u001b[39;00m labels \u001b[39mis\u001b[39;00m \u001b[39mnot\u001b[39;00m \u001b[39mNone\u001b[39;00m:\n\u001b[0;32m-> 4711\u001b[0m         obj \u001b[39m=\u001b[39m obj\u001b[39m.\u001b[39;49m_drop_axis(labels, axis, level\u001b[39m=\u001b[39;49mlevel, errors\u001b[39m=\u001b[39;49merrors)\n\u001b[1;32m   4713\u001b[0m \u001b[39mif\u001b[39;00m inplace:\n\u001b[1;32m   4714\u001b[0m     \u001b[39mself\u001b[39m\u001b[39m.\u001b[39m_update_inplace(obj)\n",
      "File \u001b[0;32m/Library/Frameworks/Python.framework/Versions/3.11/lib/python3.11/site-packages/pandas/core/generic.py:4753\u001b[0m, in \u001b[0;36mNDFrame._drop_axis\u001b[0;34m(self, labels, axis, level, errors, only_slice)\u001b[0m\n\u001b[1;32m   4751\u001b[0m         new_axis \u001b[39m=\u001b[39m axis\u001b[39m.\u001b[39mdrop(labels, level\u001b[39m=\u001b[39mlevel, errors\u001b[39m=\u001b[39merrors)\n\u001b[1;32m   4752\u001b[0m     \u001b[39melse\u001b[39;00m:\n\u001b[0;32m-> 4753\u001b[0m         new_axis \u001b[39m=\u001b[39m axis\u001b[39m.\u001b[39;49mdrop(labels, errors\u001b[39m=\u001b[39;49merrors)\n\u001b[1;32m   4754\u001b[0m     indexer \u001b[39m=\u001b[39m axis\u001b[39m.\u001b[39mget_indexer(new_axis)\n\u001b[1;32m   4756\u001b[0m \u001b[39m# Case for non-unique axis\u001b[39;00m\n\u001b[1;32m   4757\u001b[0m \u001b[39melse\u001b[39;00m:\n",
      "File \u001b[0;32m/Library/Frameworks/Python.framework/Versions/3.11/lib/python3.11/site-packages/pandas/core/indexes/base.py:6992\u001b[0m, in \u001b[0;36mIndex.drop\u001b[0;34m(self, labels, errors)\u001b[0m\n\u001b[1;32m   6990\u001b[0m \u001b[39mif\u001b[39;00m mask\u001b[39m.\u001b[39many():\n\u001b[1;32m   6991\u001b[0m     \u001b[39mif\u001b[39;00m errors \u001b[39m!=\u001b[39m \u001b[39m\"\u001b[39m\u001b[39mignore\u001b[39m\u001b[39m\"\u001b[39m:\n\u001b[0;32m-> 6992\u001b[0m         \u001b[39mraise\u001b[39;00m \u001b[39mKeyError\u001b[39;00m(\u001b[39mf\u001b[39m\u001b[39m\"\u001b[39m\u001b[39m{\u001b[39;00mlabels[mask]\u001b[39m.\u001b[39mtolist()\u001b[39m}\u001b[39;00m\u001b[39m not found in axis\u001b[39m\u001b[39m\"\u001b[39m)\n\u001b[1;32m   6993\u001b[0m     indexer \u001b[39m=\u001b[39m indexer[\u001b[39m~\u001b[39mmask]\n\u001b[1;32m   6994\u001b[0m \u001b[39mreturn\u001b[39;00m \u001b[39mself\u001b[39m\u001b[39m.\u001b[39mdelete(indexer)\n",
      "\u001b[0;31mKeyError\u001b[0m: \"['Fuel Consumption City'] not found in axis\""
     ]
    }
   ],
   "source": [
    "convert_factors = {\n",
    "    'km/L': 100, \n",
    "    'km per L': 100,\n",
    "    'mpg Imp.': 282.480936,\n",
    "    'MPG (AS)': 235.215, \n",
    "    'liters per 100 km': 1,\n",
    "    'L/100 km': 1,\n",
    "    'L/100km': 1,\n",
    "    'L/10km': 10\n",
    "}\n",
    "\n",
    "def convert_fuel_consumption(row):\n",
    "    conversion_factor = convert_factors.get(row['unit'], np.nan)\n",
    "    number = row['number']\n",
    "\n",
    "    # Check if the denominator is not zero before performing the division\n",
    "    result = np.nan\n",
    "    if conversion_factor != np.nan and number != 0:\n",
    "        if conversion_factor == 'L/10km':\n",
    "            result = number * conversion_factor\n",
    "        else:\n",
    "            result = conversion_factor / number\n",
    "            \n",
    "    return result\n",
    "\n",
    "# Convert nilai berdasarkan tipe unit\n",
    "test['Fuel Consumption City (l/100km)'] = test_fuel_city.apply(convert_fuel_consumption, axis=1)\n",
    "test.drop(columns=['Fuel Consumption City'], inplace=True)\n",
    "\n",
    "test['Fuel Consumption Hwy (l/100km)'] = test_fuel_Hwy.apply(convert_fuel_consumption, axis=1)\n",
    "test.drop(columns=['Fuel Consumption Hwy'], inplace=True)\n",
    "\n",
    "test['Fuel Consumption Comb (l/100km)'] = test_fuel_Comb.apply(convert_fuel_consumption, axis=1)\n",
    "test.drop(columns=['Fuel Consumption Comb'], inplace=True)\n",
    "\n",
    "test.isnull().sum()"
   ]
  },
  {
   "cell_type": "code",
   "execution_count": 6,
   "metadata": {},
   "outputs": [],
   "source": [
    "import random\n",
    "\n",
    "test_cleaned = test.copy()\n",
    "\n",
    "test_cleaned['Engine Size(L)'] = pd.to_numeric(test_cleaned['Engine Size(L)'], errors='coerce')\n",
    "test_cleaned['Cylinders'] = pd.to_numeric(test_cleaned['Cylinders'], errors='coerce')\n",
    "\n",
    "fill_prob = 0.3\n",
    "cols = ['Engine Size(L)', 'Cylinders', 'Vehicle Class', 'Transmission', 'Fuel Type']\n",
    "\n",
    "for col in cols:\n",
    "    if random.random() < fill_prob:\n",
    "        if col in ['Engine Size(L)', 'Cylinders']:\n",
    "            test_cleaned[col].fillna(test_cleaned[col].mean(), inplace=True)\n",
    "        else:\n",
    "            test_cleaned[col].fillna(test_cleaned[col].mode()[0], inplace=True)\n",
    "    else:\n",
    "        test_cleaned[col].fillna(test_cleaned[col].mode()[0], inplace=True)"
   ]
  },
  {
   "cell_type": "code",
   "execution_count": 26,
   "metadata": {},
   "outputs": [
    {
     "ename": "KeyError",
     "evalue": "'Fuel Consumption City (km/l)'",
     "output_type": "error",
     "traceback": [
      "\u001b[0;31m---------------------------------------------------------------------------\u001b[0m",
      "\u001b[0;31mKeyError\u001b[0m                                  Traceback (most recent call last)",
      "File \u001b[0;32m/Library/Frameworks/Python.framework/Versions/3.11/lib/python3.11/site-packages/pandas/core/indexes/base.py:3790\u001b[0m, in \u001b[0;36mIndex.get_loc\u001b[0;34m(self, key)\u001b[0m\n\u001b[1;32m   3789\u001b[0m \u001b[39mtry\u001b[39;00m:\n\u001b[0;32m-> 3790\u001b[0m     \u001b[39mreturn\u001b[39;00m \u001b[39mself\u001b[39;49m\u001b[39m.\u001b[39;49m_engine\u001b[39m.\u001b[39;49mget_loc(casted_key)\n\u001b[1;32m   3791\u001b[0m \u001b[39mexcept\u001b[39;00m \u001b[39mKeyError\u001b[39;00m \u001b[39mas\u001b[39;00m err:\n",
      "File \u001b[0;32mindex.pyx:152\u001b[0m, in \u001b[0;36mpandas._libs.index.IndexEngine.get_loc\u001b[0;34m()\u001b[0m\n",
      "File \u001b[0;32mindex.pyx:181\u001b[0m, in \u001b[0;36mpandas._libs.index.IndexEngine.get_loc\u001b[0;34m()\u001b[0m\n",
      "File \u001b[0;32mpandas/_libs/hashtable_class_helper.pxi:7080\u001b[0m, in \u001b[0;36mpandas._libs.hashtable.PyObjectHashTable.get_item\u001b[0;34m()\u001b[0m\n",
      "File \u001b[0;32mpandas/_libs/hashtable_class_helper.pxi:7088\u001b[0m, in \u001b[0;36mpandas._libs.hashtable.PyObjectHashTable.get_item\u001b[0;34m()\u001b[0m\n",
      "\u001b[0;31mKeyError\u001b[0m: 'Fuel Consumption City (km/l)'",
      "\nThe above exception was the direct cause of the following exception:\n",
      "\u001b[0;31mKeyError\u001b[0m                                  Traceback (most recent call last)",
      "\u001b[1;32m/Users/dika-mac/Documents/PROGRAMMING/machine-learning/data-slayer/notebooks/2.0-data-preprocess-test.ipynb Cell 9\u001b[0m line \u001b[0;36m2\n\u001b[1;32m      <a href='vscode-notebook-cell:/Users/dika-mac/Documents/PROGRAMMING/machine-learning/data-slayer/notebooks/2.0-data-preprocess-test.ipynb#X10sZmlsZQ%3D%3D?line=0'>1</a>\u001b[0m \u001b[39m# Fill missing value fuel columns dengan nilai mean\u001b[39;00m\n\u001b[0;32m----> <a href='vscode-notebook-cell:/Users/dika-mac/Documents/PROGRAMMING/machine-learning/data-slayer/notebooks/2.0-data-preprocess-test.ipynb#X10sZmlsZQ%3D%3D?line=1'>2</a>\u001b[0m test[\u001b[39m'\u001b[39;49m\u001b[39mFuel Consumption City (km/l)\u001b[39;49m\u001b[39m'\u001b[39;49m]\u001b[39m.\u001b[39mfillna(test[\u001b[39m'\u001b[39m\u001b[39mFuel Consumption City (km/l)\u001b[39m\u001b[39m'\u001b[39m]\u001b[39m.\u001b[39mmean(), inplace\u001b[39m=\u001b[39m\u001b[39mTrue\u001b[39;00m)\n\u001b[1;32m      <a href='vscode-notebook-cell:/Users/dika-mac/Documents/PROGRAMMING/machine-learning/data-slayer/notebooks/2.0-data-preprocess-test.ipynb#X10sZmlsZQ%3D%3D?line=2'>3</a>\u001b[0m test[\u001b[39m'\u001b[39m\u001b[39mFuel Consumption Hwy (km/l)\u001b[39m\u001b[39m'\u001b[39m]\u001b[39m.\u001b[39mfillna(test[\u001b[39m'\u001b[39m\u001b[39mFuel Consumption Hwy (km/l)\u001b[39m\u001b[39m'\u001b[39m]\u001b[39m.\u001b[39mmean(), inplace\u001b[39m=\u001b[39m\u001b[39mTrue\u001b[39;00m)\n\u001b[1;32m      <a href='vscode-notebook-cell:/Users/dika-mac/Documents/PROGRAMMING/machine-learning/data-slayer/notebooks/2.0-data-preprocess-test.ipynb#X10sZmlsZQ%3D%3D?line=3'>4</a>\u001b[0m test[\u001b[39m'\u001b[39m\u001b[39mFuel Consumption Comb (km/l)\u001b[39m\u001b[39m'\u001b[39m]\u001b[39m.\u001b[39mfillna(test[\u001b[39m'\u001b[39m\u001b[39mFuel Consumption Comb (km/l)\u001b[39m\u001b[39m'\u001b[39m]\u001b[39m.\u001b[39mmean(), inplace\u001b[39m=\u001b[39m\u001b[39mTrue\u001b[39;00m)\n",
      "File \u001b[0;32m/Library/Frameworks/Python.framework/Versions/3.11/lib/python3.11/site-packages/pandas/core/frame.py:3893\u001b[0m, in \u001b[0;36mDataFrame.__getitem__\u001b[0;34m(self, key)\u001b[0m\n\u001b[1;32m   3891\u001b[0m \u001b[39mif\u001b[39;00m \u001b[39mself\u001b[39m\u001b[39m.\u001b[39mcolumns\u001b[39m.\u001b[39mnlevels \u001b[39m>\u001b[39m \u001b[39m1\u001b[39m:\n\u001b[1;32m   3892\u001b[0m     \u001b[39mreturn\u001b[39;00m \u001b[39mself\u001b[39m\u001b[39m.\u001b[39m_getitem_multilevel(key)\n\u001b[0;32m-> 3893\u001b[0m indexer \u001b[39m=\u001b[39m \u001b[39mself\u001b[39;49m\u001b[39m.\u001b[39;49mcolumns\u001b[39m.\u001b[39;49mget_loc(key)\n\u001b[1;32m   3894\u001b[0m \u001b[39mif\u001b[39;00m is_integer(indexer):\n\u001b[1;32m   3895\u001b[0m     indexer \u001b[39m=\u001b[39m [indexer]\n",
      "File \u001b[0;32m/Library/Frameworks/Python.framework/Versions/3.11/lib/python3.11/site-packages/pandas/core/indexes/base.py:3797\u001b[0m, in \u001b[0;36mIndex.get_loc\u001b[0;34m(self, key)\u001b[0m\n\u001b[1;32m   3792\u001b[0m     \u001b[39mif\u001b[39;00m \u001b[39misinstance\u001b[39m(casted_key, \u001b[39mslice\u001b[39m) \u001b[39mor\u001b[39;00m (\n\u001b[1;32m   3793\u001b[0m         \u001b[39misinstance\u001b[39m(casted_key, abc\u001b[39m.\u001b[39mIterable)\n\u001b[1;32m   3794\u001b[0m         \u001b[39mand\u001b[39;00m \u001b[39many\u001b[39m(\u001b[39misinstance\u001b[39m(x, \u001b[39mslice\u001b[39m) \u001b[39mfor\u001b[39;00m x \u001b[39min\u001b[39;00m casted_key)\n\u001b[1;32m   3795\u001b[0m     ):\n\u001b[1;32m   3796\u001b[0m         \u001b[39mraise\u001b[39;00m InvalidIndexError(key)\n\u001b[0;32m-> 3797\u001b[0m     \u001b[39mraise\u001b[39;00m \u001b[39mKeyError\u001b[39;00m(key) \u001b[39mfrom\u001b[39;00m \u001b[39merr\u001b[39;00m\n\u001b[1;32m   3798\u001b[0m \u001b[39mexcept\u001b[39;00m \u001b[39mTypeError\u001b[39;00m:\n\u001b[1;32m   3799\u001b[0m     \u001b[39m# If we have a listlike key, _check_indexing_error will raise\u001b[39;00m\n\u001b[1;32m   3800\u001b[0m     \u001b[39m#  InvalidIndexError. Otherwise we fall through and re-raise\u001b[39;00m\n\u001b[1;32m   3801\u001b[0m     \u001b[39m#  the TypeError.\u001b[39;00m\n\u001b[1;32m   3802\u001b[0m     \u001b[39mself\u001b[39m\u001b[39m.\u001b[39m_check_indexing_error(key)\n",
      "\u001b[0;31mKeyError\u001b[0m: 'Fuel Consumption City (km/l)'"
     ]
    }
   ],
   "source": [
    "# Fill missing value fuel columns dengan nilai mean\n",
    "test['Fuel Consumption City (km/l)'].fillna(test['Fuel Consumption City (km/l)'].mean(), inplace=True)\n",
    "test['Fuel Consumption Hwy (km/l)'].fillna(test['Fuel Consumption Hwy (km/l)'].mean(), inplace=True)\n",
    "test['Fuel Consumption Comb (km/l)'].fillna(test['Fuel Consumption Comb (km/l)'].mean(), inplace=True)\n",
    "\n",
    "test.isnull().sum()"
   ]
  },
  {
   "cell_type": "code",
   "execution_count": 12,
   "metadata": {},
   "outputs": [
    {
     "data": {
      "text/plain": [
       "Id                                   int64\n",
       "Make                                 int64\n",
       "Vehicle Class                        int64\n",
       "Engine Size(L)                     float64\n",
       "Cylinders                          float64\n",
       "Transmission                         int64\n",
       "Fuel Type                            int64\n",
       "Fuel Consumption City (l/100km)    float64\n",
       "Fuel Consumption Hwy (l/100km)     float64\n",
       "Fuel Consumption Comb (l/100km)    float64\n",
       "dtype: object"
      ]
     },
     "execution_count": 12,
     "metadata": {},
     "output_type": "execute_result"
    }
   ],
   "source": [
    "from sklearn.preprocessing import LabelEncoder\n",
    "label_encoder = LabelEncoder()\n",
    "\n",
    "test_encoded = test_cleaned.copy()\n",
    "\n",
    "test_encoded['Make'] = label_encoder.fit_transform(test_encoded['Make'])\n",
    "test_encoded['Vehicle Class'] = label_encoder.fit_transform(test_encoded['Vehicle Class'])\n",
    "test_encoded['Transmission'] = label_encoder.fit_transform(test_encoded['Transmission'])\n",
    "test_encoded['Fuel Type'] = label_encoder.fit_transform(test_encoded['Fuel Type'])\n",
    "\n",
    "test_encoded.dtypes"
   ]
  },
  {
   "cell_type": "code",
   "execution_count": 120,
   "metadata": {},
   "outputs": [],
   "source": [
    "# Fill missing value di kolom kategorikal dengan nilai modus\n",
    "test['Transmission'].fillna(test['Transmission'].mode()[0], inplace=True)\n",
    "test['Fuel Type'].fillna(test['Fuel Type'].mode()[0], inplace=True)\n",
    "test['Vehicle Class'].fillna(test['Vehicle Class'].mode()[0], inplace=True)\n",
    "test['Make'].fillna(test['Make'].mode()[0], inplace=True)"
   ]
  },
  {
   "cell_type": "code",
   "execution_count": 13,
   "metadata": {},
   "outputs": [],
   "source": [
    "test_subset = test_encoded.drop(columns=['Make', 'Vehicle Class', 'Transmission', 'Id'])\n",
    "\n",
    "# Calculate IQR\n",
    "Q1 = test_subset.quantile(0.25)\n",
    "Q3 = test_subset.quantile(0.75)\n",
    "IQR = Q3 - Q1\n",
    "\n",
    "# Identify and replace outliers with the mode\n",
    "for column in test_subset.columns:\n",
    "    lower_bound = Q1[column] - 1.5 * IQR[column]\n",
    "    upper_bound = Q3[column] + 1.5 * IQR[column]\n",
    "\n",
    "    # Replace outliers with the mode\n",
    "    test_subset[column] = np.where((test_subset[column] < lower_bound) | (test_subset[column] > upper_bound),\n",
    "                                   test_subset[column].mode()[0],\n",
    "                                   test_subset[column])\n",
    "\n",
    "# Concatenate 'id' and 'make' columns back to the modified DataFrame\n",
    "modified_test = pd.concat([test_encoded[['Make', 'Vehicle Class', 'Transmission', 'Id']], test_subset], axis=1)"
   ]
  },
  {
   "cell_type": "code",
   "execution_count": 14,
   "metadata": {},
   "outputs": [
    {
     "data": {
      "text/plain": [
       "Make                                 int64\n",
       "Vehicle Class                        int64\n",
       "Transmission                         int64\n",
       "Id                                   int64\n",
       "Engine Size(L)                     float64\n",
       "Cylinders                          float64\n",
       "Fuel Type                            int64\n",
       "Fuel Consumption City (l/100km)    float64\n",
       "Fuel Consumption Hwy (l/100km)     float64\n",
       "Fuel Consumption Comb (l/100km)    float64\n",
       "dtype: object"
      ]
     },
     "execution_count": 14,
     "metadata": {},
     "output_type": "execute_result"
    }
   ],
   "source": [
    "modified_test.dtypes"
   ]
  },
  {
   "cell_type": "code",
   "execution_count": 15,
   "metadata": {},
   "outputs": [],
   "source": [
    "# Simpan preprocessed data\n",
    "import pickle\n",
    "import os\n",
    "\n",
    "if not os.path.exists('../data/processed'):\n",
    "    os.makedirs('../data/processed')\n",
    "\n",
    "with open('../data/processed/test-processed.pkl', 'wb') as f:\n",
    "    pickle.dump(modified_test, f)"
   ]
  }
 ],
 "metadata": {
  "kernelspec": {
   "display_name": "Python 3",
   "language": "python",
   "name": "python3"
  },
  "language_info": {
   "codemirror_mode": {
    "name": "ipython",
    "version": 3
   },
   "file_extension": ".py",
   "mimetype": "text/x-python",
   "name": "python",
   "nbconvert_exporter": "python",
   "pygments_lexer": "ipython3",
   "version": "3.11.4"
  }
 },
 "nbformat": 4,
 "nbformat_minor": 2
}
