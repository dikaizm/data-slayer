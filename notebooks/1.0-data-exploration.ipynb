{
 "cells": [
  {
   "cell_type": "code",
   "execution_count": 2,
   "metadata": {},
   "outputs": [
    {
     "data": {
      "text/html": [
       "<div>\n",
       "<style scoped>\n",
       "    .dataframe tbody tr th:only-of-type {\n",
       "        vertical-align: middle;\n",
       "    }\n",
       "\n",
       "    .dataframe tbody tr th {\n",
       "        vertical-align: top;\n",
       "    }\n",
       "\n",
       "    .dataframe thead th {\n",
       "        text-align: right;\n",
       "    }\n",
       "</style>\n",
       "<table border=\"1\" class=\"dataframe\">\n",
       "  <thead>\n",
       "    <tr style=\"text-align: right;\">\n",
       "      <th></th>\n",
       "      <th>Id</th>\n",
       "      <th>Make</th>\n",
       "      <th>Vehicle Class</th>\n",
       "      <th>Engine Size(L)</th>\n",
       "      <th>Cylinders</th>\n",
       "      <th>Transmission</th>\n",
       "      <th>Fuel Type</th>\n",
       "      <th>Fuel Consumption City</th>\n",
       "      <th>Fuel Consumption Hwy</th>\n",
       "      <th>Fuel Consumption Comb</th>\n",
       "    </tr>\n",
       "  </thead>\n",
       "  <tbody>\n",
       "    <tr>\n",
       "      <th>0</th>\n",
       "      <td>137142</td>\n",
       "      <td>CADILUXE</td>\n",
       "      <td>MID-SIZE</td>\n",
       "      <td>3.6</td>\n",
       "      <td>NaN</td>\n",
       "      <td>AS8</td>\n",
       "      <td>X</td>\n",
       "      <td>6.40 km/L</td>\n",
       "      <td>1.77 L/100 km</td>\n",
       "      <td>25.04 MPG (AS)</td>\n",
       "    </tr>\n",
       "    <tr>\n",
       "      <th>1</th>\n",
       "      <td>137143</td>\n",
       "      <td>FOLD</td>\n",
       "      <td>VAN - PASSENGER</td>\n",
       "      <td>3.7</td>\n",
       "      <td>6.0</td>\n",
       "      <td>AS6</td>\n",
       "      <td>X</td>\n",
       "      <td>21.11 L/100km</td>\n",
       "      <td>14.38 liters per 100 km</td>\n",
       "      <td>5.53 km per L</td>\n",
       "    </tr>\n",
       "    <tr>\n",
       "      <th>2</th>\n",
       "      <td>137144</td>\n",
       "      <td>MITSU</td>\n",
       "      <td>SUV - SMALL</td>\n",
       "      <td>6.0</td>\n",
       "      <td>NaN</td>\n",
       "      <td>AV6</td>\n",
       "      <td>X</td>\n",
       "      <td>9.60 MPG (AS)</td>\n",
       "      <td>27.45 mpg Imp.</td>\n",
       "      <td>12.99 MPG (AS)</td>\n",
       "    </tr>\n",
       "    <tr>\n",
       "      <th>3</th>\n",
       "      <td>137145</td>\n",
       "      <td>LECUS</td>\n",
       "      <td>MID-SIZE</td>\n",
       "      <td>4.6</td>\n",
       "      <td>NaN</td>\n",
       "      <td>AS8</td>\n",
       "      <td>Z</td>\n",
       "      <td>1.68 L/10km</td>\n",
       "      <td>6.29 km/L</td>\n",
       "      <td>16.42 L/100km</td>\n",
       "    </tr>\n",
       "    <tr>\n",
       "      <th>4</th>\n",
       "      <td>137146</td>\n",
       "      <td>BMV</td>\n",
       "      <td>SUV - STANDARD</td>\n",
       "      <td>4.4</td>\n",
       "      <td>8.0</td>\n",
       "      <td>AS8</td>\n",
       "      <td>Z</td>\n",
       "      <td>5.65 MPG (AS)</td>\n",
       "      <td>14.75 mpg Imp.</td>\n",
       "      <td>31.52 L/100km</td>\n",
       "    </tr>\n",
       "  </tbody>\n",
       "</table>\n",
       "</div>"
      ],
      "text/plain": [
       "       Id      Make    Vehicle Class Engine Size(L) Cylinders Transmission  \\\n",
       "0  137142  CADILUXE         MID-SIZE            3.6       NaN          AS8   \n",
       "1  137143      FOLD  VAN - PASSENGER            3.7       6.0          AS6   \n",
       "2  137144     MITSU      SUV - SMALL            6.0       NaN          AV6   \n",
       "3  137145     LECUS         MID-SIZE            4.6       NaN          AS8   \n",
       "4  137146       BMV   SUV - STANDARD            4.4       8.0          AS8   \n",
       "\n",
       "  Fuel Type Fuel Consumption City     Fuel Consumption Hwy  \\\n",
       "0         X             6.40 km/L            1.77 L/100 km   \n",
       "1         X         21.11 L/100km  14.38 liters per 100 km   \n",
       "2         X         9.60 MPG (AS)           27.45 mpg Imp.   \n",
       "3         Z           1.68 L/10km                6.29 km/L   \n",
       "4         Z         5.65 MPG (AS)           14.75 mpg Imp.   \n",
       "\n",
       "  Fuel Consumption Comb  \n",
       "0        25.04 MPG (AS)  \n",
       "1         5.53 km per L  \n",
       "2        12.99 MPG (AS)  \n",
       "3         16.42 L/100km  \n",
       "4         31.52 L/100km  "
      ]
     },
     "execution_count": 2,
     "metadata": {},
     "output_type": "execute_result"
    }
   ],
   "source": [
    "import pandas as pd\n",
    "\n",
    "df = pd.read_csv('../data/raw/test.csv')\n",
    "df.head()"
   ]
  },
  {
   "cell_type": "code",
   "execution_count": 4,
   "metadata": {},
   "outputs": [
    {
     "name": "stdout",
     "output_type": "stream",
     "text": [
      "<class 'pandas.core.frame.DataFrame'>\n",
      "RangeIndex: 58776 entries, 0 to 58775\n",
      "Data columns (total 10 columns):\n",
      " #   Column                 Non-Null Count  Dtype \n",
      "---  ------                 --------------  ----- \n",
      " 0   Id                     58776 non-null  int64 \n",
      " 1   Make                   58776 non-null  object\n",
      " 2   Vehicle Class          58243 non-null  object\n",
      " 3   Engine Size(L)         51537 non-null  object\n",
      " 4   Cylinders              52822 non-null  object\n",
      " 5   Transmission           57621 non-null  object\n",
      " 6   Fuel Type              58006 non-null  object\n",
      " 7   Fuel Consumption City  57729 non-null  object\n",
      " 8   Fuel Consumption Hwy   57781 non-null  object\n",
      " 9   Fuel Consumption Comb  57641 non-null  object\n",
      "dtypes: int64(1), object(9)\n",
      "memory usage: 4.5+ MB\n"
     ]
    }
   ],
   "source": [
    "df.info()"
   ]
  },
  {
   "cell_type": "code",
   "execution_count": 6,
   "metadata": {},
   "outputs": [
    {
     "data": {
      "text/plain": [
       "(58776, 10)"
      ]
     },
     "execution_count": 6,
     "metadata": {},
     "output_type": "execute_result"
    }
   ],
   "source": [
    "df.shape"
   ]
  },
  {
   "cell_type": "code",
   "execution_count": null,
   "metadata": {},
   "outputs": [],
   "source": []
  }
 ],
 "metadata": {
  "kernelspec": {
   "display_name": "Python 3",
   "language": "python",
   "name": "python3"
  },
  "language_info": {
   "codemirror_mode": {
    "name": "ipython",
    "version": 3
   },
   "file_extension": ".py",
   "mimetype": "text/x-python",
   "name": "python",
   "nbconvert_exporter": "python",
   "pygments_lexer": "ipython3",
   "version": "3.11.4"
  }
 },
 "nbformat": 4,
 "nbformat_minor": 2
}
